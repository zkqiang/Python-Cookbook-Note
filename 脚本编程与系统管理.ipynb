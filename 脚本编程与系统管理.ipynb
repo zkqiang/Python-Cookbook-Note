{
 "cells": [
  {
   "cell_type": "markdown",
   "metadata": {},
   "source": [
    "# 脚本编程与系统管理\n",
    "---"
   ]
  },
  {
   "cell_type": "markdown",
   "metadata": {},
   "source": [
    "### 通过重定向/管道/文件接受输入"
   ]
  },
  {
   "cell_type": "markdown",
   "metadata": {},
   "source": [
    "使用 `fileinput` 模块可以接受从命令行输出、重定向文件，或命令行传递的文件名列表等输入。"
   ]
  },
  {
   "cell_type": "markdown",
   "metadata": {},
   "source": [
    "```python\n",
    "import fileinput\n",
    "\n",
    "with fileinput.input() as f_input:\n",
    "    for line in list(f_input)[:20]:\n",
    "        print(line, end='')\n",
    "```"
   ]
  },
  {
   "cell_type": "markdown",
   "metadata": {},
   "source": [
    "将以上代码保存后在命令行如下执行  \n",
    "`$ ls | ./filein.py`           # 打印目录列表到屏幕输出  \n",
    "`$ ./filein.py /etc/passwd`    # 读取 /etc/passwd 到屏幕输出  \n",
    "`$ ./filein.py < /etc/passwd`  # 读取 /etc/passwd 到屏幕输出"
   ]
  },
  {
   "cell_type": "markdown",
   "metadata": {},
   "source": [
    "---"
   ]
  },
  {
   "cell_type": "markdown",
   "metadata": {},
   "source": [
    "### 终止程序并给出错误信息"
   ]
  },
  {
   "cell_type": "code",
   "execution_count": 1,
   "metadata": {},
   "outputs": [
    {
     "ename": "SystemExit",
     "evalue": "It failed!",
     "output_type": "error",
     "traceback": [
      "An exception has occurred, use %tb to see the full traceback.\n",
      "\u001b[0;31mSystemExit\u001b[0m\u001b[0;31m:\u001b[0m It failed!\n"
     ]
    },
    {
     "name": "stderr",
     "output_type": "stream",
     "text": [
      "/anaconda3/lib/python3.6/site-packages/IPython/core/interactiveshell.py:2971: UserWarning: To exit: use 'exit', 'quit', or Ctrl-D.\n",
      "  warn(\"To exit: use 'exit', 'quit', or Ctrl-D.\", stacklevel=1)\n"
     ]
    }
   ],
   "source": [
    "import sys\n",
    "raise SystemExit('It failed!')"
   ]
  },
  {
   "cell_type": "markdown",
   "metadata": {},
   "source": [
    "---"
   ]
  },
  {
   "cell_type": "markdown",
   "metadata": {},
   "source": [
    "### 解析命令行选项"
   ]
  },
  {
   "cell_type": "markdown",
   "metadata": {},
   "source": [
    "可以使用标准库的 `argparse` 模块，首先要创建一个 `ArgumentParser` 实例， 并使用 `add_argument` 方法声明你想要支持的选项。 在每个 `add_argument` 调用中，`dest` 参数指定解析结果被指派给属性的名字。 `metavar` 参数被用来生成帮助信息。`action` 参数指定跟属性对应的处理逻辑， 通常的值为 `store` ，被用来存储某个值或将多个参数值收集到一个列表中。 "
   ]
  },
  {
   "cell_type": "markdown",
   "metadata": {},
   "source": [
    "```python\n",
    "import argparse\n",
    "\n",
    "parser = argparse.ArgumentParser(description='Search some files')\n",
    "\n",
    "parser.add_argument(dest='filenames',metavar='filename', nargs='*')\n",
    "\n",
    "parser.add_argument('-p', '--pat', metavar='pattern', \n",
    "                    required=True, dest='patterns', \n",
    "                    action='append',\n",
    "                    help='text pattern to search for')\n",
    "\n",
    "parser.add_argument('-v', dest='verbose', action='store_true',\n",
    "                    help='verbose mode')\n",
    "\n",
    "parser.add_argument('-o', dest='outfile', action='store',\n",
    "                    help='output file')\n",
    "\n",
    "parser.add_argument('--speed', dest='speed', action='store',\n",
    "                    choices={'slow','fast'}, default='slow',\n",
    "                    help='search speed')\n",
    "\n",
    "args = parser.parse_args()\n",
    "\n",
    "print(args.filenames)\n",
    "print(args.patterns)\n",
    "print(args.verbose)\n",
    "print(args.outfile)\n",
    "print(args.speed)\n",
    "```"
   ]
  },
  {
   "cell_type": "markdown",
   "metadata": {},
   "source": [
    "将以上代码保存后在命令行如下执行  \n",
    "```\n",
    "$ python3 search.py -h\n",
    "usage: search.py [-h] [-p pattern] [-v] [-o OUTFILE] [--speed {slow,fast}]\n",
    "                 [filename [filename ...]]\n",
    "\n",
    "Search some files\n",
    "\n",
    "positional arguments:\n",
    "  filename\n",
    "\n",
    "optional arguments:\n",
    "  -h, --help            show this help message and exit\n",
    "  -p pattern, --pat pattern\n",
    "                        text pattern to search for\n",
    "  -v                    verbose mode\n",
    "  -o OUTFILE            output file\n",
    "  --speed {slow,fast}   search speed\n",
    "\n",
    "$ python3 search.py foo.txt bar.txt\n",
    "usage: search.py [-h] -p pattern [-v] [-o OUTFILE] [--speed {fast,slow}]\n",
    "                 [filename [filename ...]]\n",
    "search.py: error: the following arguments are required: -p/--pat\n",
    "\n",
    "$ python3 search.py -v -p spam --pat=eggs foo.txt bar.txt\n",
    "filenames = ['foo.txt', 'bar.txt']\n",
    "patterns  = ['spam', 'eggs']\n",
    "verbose   = True\n",
    "outfile   = None\n",
    "speed     = slow\n",
    "\n",
    "$ python3 search.py -v -p spam --pat=eggs foo.txt bar.txt -o results\n",
    "filenames = ['foo.txt', 'bar.txt']\n",
    "patterns  = ['spam', 'eggs']\n",
    "verbose   = True\n",
    "outfile   = results\n",
    "speed     = slow\n",
    "\n",
    "$ python3 search.py -v -p spam --pat=eggs foo.txt bar.txt -o results --speed=fast\n",
    "filenames = ['foo.txt', 'bar.txt']\n",
    "patterns  = ['spam', 'eggs']\n",
    "verbose   = True\n",
    "outfile   = results\n",
    "speed     = fast\n",
    "\n",
    "```"
   ]
  },
  {
   "cell_type": "markdown",
   "metadata": {},
   "source": [
    "---"
   ]
  },
  {
   "cell_type": "markdown",
   "metadata": {},
   "source": [
    "### 运行时弹出密码输入提示"
   ]
  },
  {
   "cell_type": "code",
   "execution_count": 2,
   "metadata": {},
   "outputs": [
    {
     "name": "stdout",
     "output_type": "stream",
     "text": [
      "Enter your password: ········\n",
      "Right!\n"
     ]
    }
   ],
   "source": [
    "import getpass\n",
    "\n",
    "# 该函数依次检测环境变量 LOGNAME、USER、LNAME 和 USERNAME，返回其中第一个非空的值\n",
    "user = getpass.getuser()\n",
    "# 该函数键入\n",
    "passwd = getpass.getpass('Enter your password: ')\n",
    "\n",
    "def svc_login(ur, pw):\n",
    "    if pw == 'admin':\n",
    "        return True\n",
    "    else:\n",
    "        return False\n",
    "\n",
    "if svc_login(user, passwd):\n",
    "   print('Right!')\n",
    "else:\n",
    "   print('Wrong!')"
   ]
  },
  {
   "cell_type": "markdown",
   "metadata": {},
   "source": [
    "---"
   ]
  },
  {
   "cell_type": "markdown",
   "metadata": {},
   "source": [
    "### 获取终端的大小"
   ]
  },
  {
   "cell_type": "code",
   "execution_count": 3,
   "metadata": {},
   "outputs": [],
   "source": [
    "import os\n",
    "sz = os.get_terminal_size()"
   ]
  },
  {
   "cell_type": "code",
   "execution_count": 4,
   "metadata": {},
   "outputs": [
    {
     "data": {
      "text/plain": [
       "os.terminal_size(columns=80, lines=24)"
      ]
     },
     "execution_count": 4,
     "metadata": {},
     "output_type": "execute_result"
    }
   ],
   "source": [
    "sz"
   ]
  },
  {
   "cell_type": "code",
   "execution_count": 5,
   "metadata": {},
   "outputs": [
    {
     "data": {
      "text/plain": [
       "80"
      ]
     },
     "execution_count": 5,
     "metadata": {},
     "output_type": "execute_result"
    }
   ],
   "source": [
    "sz.columns"
   ]
  },
  {
   "cell_type": "code",
   "execution_count": 6,
   "metadata": {},
   "outputs": [
    {
     "data": {
      "text/plain": [
       "24"
      ]
     },
     "execution_count": 6,
     "metadata": {},
     "output_type": "execute_result"
    }
   ],
   "source": [
    "sz.lines"
   ]
  },
  {
   "cell_type": "markdown",
   "metadata": {},
   "source": [
    "---"
   ]
  },
  {
   "cell_type": "markdown",
   "metadata": {},
   "source": [
    "### 执行外部命令并获取它的输出"
   ]
  },
  {
   "cell_type": "code",
   "execution_count": 7,
   "metadata": {
    "scrolled": true
   },
   "outputs": [],
   "source": [
    "import subprocess\n",
    "out_bytes = subprocess.check_output(['ls'])"
   ]
  },
  {
   "cell_type": "code",
   "execution_count": 8,
   "metadata": {},
   "outputs": [
    {
     "name": "stdout",
     "output_type": "stream",
     "text": [
      "函数.ipynb\n",
      "元编程.ipynb\n",
      "文件与IO.ipynb\n",
      "网络与Web编程.ipynb\n",
      "并发编程.ipynb\n",
      "模块与包.ipynb\n",
      "类与对象.ipynb\n",
      "字符串和文本.ipynb\n",
      "数字日期和时间.ipynb\n",
      "数据结构和算法.ipynb\n",
      "迭代器与生成器.ipynb\n",
      "脚本编程与系统管理.ipynb\n",
      "\n"
     ]
    }
   ],
   "source": [
    "print(out_bytes.decode('utf-8'))"
   ]
  },
  {
   "cell_type": "markdown",
   "metadata": {},
   "source": [
    "---"
   ]
  },
  {
   "cell_type": "markdown",
   "metadata": {},
   "source": [
    "### 复制或者移动文件和目录"
   ]
  },
  {
   "cell_type": "markdown",
   "metadata": {},
   "source": [
    "```python\n",
    "import shutil\n",
    "\n",
    "# 拷贝文件 src 到 dst，包括文件和权限\n",
    "shutil.copy(src, dst)\n",
    "\n",
    "# 在 copy 方法基础上，额外拷贝修改时间和最后访问时间\n",
    "shutil.copy2(src, dst)\n",
    "\n",
    "# 拷贝目录\n",
    "shutil.copytree(src, dst)\n",
    "\n",
    "# 移动文件\n",
    "shutil.move(src, dst)\n",
    "```"
   ]
  },
  {
   "cell_type": "markdown",
   "metadata": {},
   "source": [
    "---"
   ]
  },
  {
   "cell_type": "markdown",
   "metadata": {},
   "source": [
    "### 创建和解压归档文件"
   ]
  },
  {
   "cell_type": "markdown",
   "metadata": {},
   "source": [
    "```python\n",
    "import shutil\n",
    "\n",
    "# 解压\n",
    "shutil.unpack_archive('Python-3.3.0.tgz')\n",
    "\n",
    "# 将 Python-3.3.0 目录压缩成 py33.zip\n",
    "shutil.make_archive('py33','zip','Python-3.3.0')\n",
    "```"
   ]
  },
  {
   "cell_type": "markdown",
   "metadata": {},
   "source": [
    "---"
   ]
  },
  {
   "cell_type": "markdown",
   "metadata": {},
   "source": [
    "### 通过文件名查找文件"
   ]
  },
  {
   "cell_type": "code",
   "execution_count": 9,
   "metadata": {},
   "outputs": [],
   "source": [
    "import os\n",
    "\n",
    "def findfile(start, name):\n",
    "    for relpath, dirs, files in os.walk(start):\n",
    "        if name in files:\n",
    "            full_path = os.path.join(start, relpath, name)\n",
    "            print(os.path.normpath(os.path.abspath(full_path)))"
   ]
  },
  {
   "cell_type": "code",
   "execution_count": 10,
   "metadata": {},
   "outputs": [
    {
     "name": "stdout",
     "output_type": "stream",
     "text": [
      "/Users/zkqiang/Documents/GitHub/Python-Cookbook-Note/脚本编程与系统管理.ipynb\n"
     ]
    }
   ],
   "source": [
    "findfile('./', '脚本编程与系统管理.ipynb')"
   ]
  },
  {
   "cell_type": "markdown",
   "metadata": {},
   "source": [
    "---"
   ]
  },
  {
   "cell_type": "markdown",
   "metadata": {},
   "source": [
    "### 读取配置文件"
   ]
  },
  {
   "cell_type": "markdown",
   "metadata": {},
   "source": [
    "```\n",
    "; config.ini\n",
    "; Sample configuration file\n",
    "\n",
    "[installation]\n",
    "library=%(prefix)s/lib\n",
    "include=%(prefix)s/include\n",
    "bin=%(prefix)s/bin\n",
    "prefix=/usr/local\n",
    "\n",
    "# Setting related to debug configuration\n",
    "[debug]\n",
    "log_errors=true\n",
    "show_warnings=False\n",
    "\n",
    "[server]\n",
    "port: 8080\n",
    "nworkers: 32\n",
    "pid-file=/tmp/spam.pid\n",
    "root=/www/root\n",
    "signature:\n",
    "    =================================\n",
    "    Brought to you by the Python Cookbook\n",
    "    =================================\n",
    "```"
   ]
  },
  {
   "cell_type": "markdown",
   "metadata": {},
   "source": [
    "```python\n",
    ">>> from configparser import ConfigParser\n",
    ">>> cfg = ConfigParser()\n",
    ">>> cfg.read('config.ini')\n",
    "['config.ini']\n",
    ">>> cfg.sections()\n",
    "['installation', 'debug', 'server']\n",
    ">>> cfg.get('installation','library')\n",
    "'/usr/local/lib'\n",
    ">>> cfg.getboolean('debug','log_errors')\n",
    "\n",
    "True\n",
    ">>> cfg.getint('server','port')\n",
    "8080\n",
    ">>> cfg.getint('server','nworkers')\n",
    "32\n",
    ">>> print(cfg.get('server','signature'))\n",
    "\n",
    "\\=================================\n",
    "Brought to you by the Python Cookbook\n",
    "\\=================================\n",
    "```"
   ]
  }
 ],
 "metadata": {
  "kernelspec": {
   "display_name": "Python 3",
   "language": "python",
   "name": "python3"
  },
  "language_info": {
   "codemirror_mode": {
    "name": "ipython",
    "version": 3
   },
   "file_extension": ".py",
   "mimetype": "text/x-python",
   "name": "python",
   "nbconvert_exporter": "python",
   "pygments_lexer": "ipython3",
   "version": "3.6.5"
  }
 },
 "nbformat": 4,
 "nbformat_minor": 2
}
