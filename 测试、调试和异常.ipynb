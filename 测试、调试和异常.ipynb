{
 "cells": [
  {
   "cell_type": "markdown",
   "metadata": {},
   "source": [
    "# 测试、调试和异常\n",
    "---"
   ]
  },
  {
   "cell_type": "markdown",
   "metadata": {},
   "source": [
    "### 测试 stdout 输出"
   ]
  },
  {
   "cell_type": "code",
   "execution_count": 1,
   "metadata": {},
   "outputs": [],
   "source": [
    "def urlprint(protocol, host, domain):\n",
    "    url = '{}://{}.{}'.format(protocol, host, domain)\n",
    "    print(url)"
   ]
  },
  {
   "cell_type": "code",
   "execution_count": 2,
   "metadata": {},
   "outputs": [],
   "source": [
    "from io import StringIO\n",
    "from unittest import TestCase\n",
    "from unittest.mock import patch\n",
    "\n",
    "\n",
    "class TestURLPrint(TestCase):\n",
    "\n",
    "    def test_url_gets_to_stdout(self):\n",
    "        protocol = 'http'\n",
    "        host = 'www'\n",
    "        domain = 'example.com'\n",
    "        # 期望输出\n",
    "        expected_url = '{}://{}.{}\\n'.format(protocol, host, domain)\n",
    "\n",
    "        with patch('sys.stdout', new=StringIO()) as fake_out:\n",
    "            urlprint(protocol, host, domain)\n",
    "            self.assertEqual(fake_out.getvalue(), expected_url)"
   ]
  },
  {
   "cell_type": "markdown",
   "metadata": {},
   "source": [
    "---"
   ]
  },
  {
   "cell_type": "markdown",
   "metadata": {},
   "source": [
    "### 在单元测试中给对象打补丁"
   ]
  },
  {
   "cell_type": "markdown",
   "metadata": {},
   "source": [
    "使用 `unittest.mock.patch` 函数，用于断言它们在测试中的期望行为（比如，断言被调用时的参数个数，访问指定的属性等）。"
   ]
  },
  {
   "cell_type": "markdown",
   "metadata": {},
   "source": [
    "```python\n",
    "from unittest.mock import patch\n",
    "import example\n",
    "\n",
    "# 方法一\n",
    "@patch('example.func')\n",
    "def test1(x, mock_func):\n",
    "    example.func(x)\n",
    "    mock_func.assert_called_with(x)\n",
    "\n",
    "# 方法二\n",
    "with patch('example.func') as mock_func:\n",
    "    example.func(x)\n",
    "    mock_func.assert_called_with(x)\n",
    "\n",
    "# 方法三\n",
    "p = patch('example.func')\n",
    "mock_func = p.start()\n",
    "example.func(x)\n",
    "mock_func.assert_called_with(x)\n",
    "p.stop()\n",
    "\n",
    "# 多个对象\n",
    "@patch('example.func1')\n",
    "@patch('example.func2')\n",
    "@patch('example.func3')\n",
    "def test1(mock1, mock2, mock3):\n",
    "    ...\n",
    "\n",
    "def test2():\n",
    "    with patch('example.patch1') as mock1, \\\n",
    "         patch('example.patch2') as mock2, \\\n",
    "         patch('example.patch3') as mock3:\n",
    "    ...\n",
    "```"
   ]
  },
  {
   "cell_type": "markdown",
   "metadata": {},
   "source": [
    "---"
   ]
  },
  {
   "cell_type": "markdown",
   "metadata": {},
   "source": [
    "### 在单元测试中测试异常情况"
   ]
  },
  {
   "cell_type": "markdown",
   "metadata": {},
   "source": [
    "测试抛出的异常"
   ]
  },
  {
   "cell_type": "code",
   "execution_count": 3,
   "metadata": {},
   "outputs": [],
   "source": [
    "import unittest\n",
    "\n",
    "def parse_int(s):\n",
    "    return int(s)\n",
    "\n",
    "\n",
    "class TestConversion(unittest.TestCase):\n",
    "\n",
    "    def test_bad_int(self):\n",
    "        self.assertRaises(ValueError, parse_int, 'N/A')"
   ]
  },
  {
   "cell_type": "markdown",
   "metadata": {},
   "source": [
    "测试异常的具体值"
   ]
  },
  {
   "cell_type": "code",
   "execution_count": 4,
   "metadata": {},
   "outputs": [],
   "source": [
    "import errno\n",
    "\n",
    "\n",
    "class TestIO(unittest.TestCase):\n",
    "\n",
    "    def test_file_not_found(self):\n",
    "        try:\n",
    "            f = open('/file/not/found')\n",
    "        except IOError as e:\n",
    "            self.assertEqual(e.errno, errno.ENOENT)\n",
    "        else:\n",
    "            self.fail('IOError not raised')"
   ]
  },
  {
   "cell_type": "markdown",
   "metadata": {},
   "source": [
    "同时测试异常和异常值"
   ]
  },
  {
   "cell_type": "code",
   "execution_count": 5,
   "metadata": {},
   "outputs": [],
   "source": [
    "class TestConversion(unittest.TestCase):\n",
    "\n",
    "    def test_bad_int(self):\n",
    "        self.assertRaisesRegex(\n",
    "            ValueError, 'invalid literal .*', parse_int, 'N/A')"
   ]
  },
  {
   "cell_type": "markdown",
   "metadata": {},
   "source": [
    "---"
   ]
  },
  {
   "cell_type": "markdown",
   "metadata": {},
   "source": [
    "### 将测试输出用日志记录到文件中"
   ]
  },
  {
   "cell_type": "markdown",
   "metadata": {},
   "source": [
    "保存如下代码后，测试文件就是可执行的，并且会将运行测试的结果打印到标准输出上"
   ]
  },
  {
   "cell_type": "markdown",
   "metadata": {},
   "source": [
    "```python\n",
    "import unittest\n",
    "\n",
    "class MyTest(unittest.TestCase):\n",
    "    pass\n",
    "\n",
    "if __name__ == '__main__':\n",
    "    unittest.main()\n",
    "```"
   ]
  },
  {
   "cell_type": "markdown",
   "metadata": {},
   "source": [
    "如果想重定向输出，就需要像下面这样修改 `main` 函数："
   ]
  },
  {
   "cell_type": "markdown",
   "metadata": {},
   "source": [
    "```python\n",
    "import sys\n",
    "\n",
    "def main(out=sys.stderr, verbosity=2):\n",
    "    loader = unittest.TestLoader()\n",
    "    suite = loader.loadTestsFromModule(sys.modules[__name__])\n",
    "    unittest.TextTestRunner(out,verbosity=verbosity).run(suite)\n",
    "\n",
    "if __name__ == '__main__':\n",
    "    with open('testing.out', 'w') as f:\n",
    "        main(f)\n",
    "```"
   ]
  },
  {
   "cell_type": "markdown",
   "metadata": {},
   "source": [
    "---"
   ]
  },
  {
   "cell_type": "markdown",
   "metadata": {},
   "source": [
    "### 忽略或期望测试失败"
   ]
  },
  {
   "cell_type": "markdown",
   "metadata": {},
   "source": [
    "```python\n",
    "import unittest\n",
    "import os\n",
    "import platform\n",
    "\n",
    "class Tests(unittest.TestCase):\n",
    "    def test_0(self):\n",
    "        self.assertTrue(True)\n",
    "\n",
    "    @unittest.skip('skipped test')\n",
    "    def test_1(self):\n",
    "        self.fail('should have failed!')\n",
    "\n",
    "    @unittest.skipIf(os.name=='posix', 'Not supported on Unix')\n",
    "    def test_2(self):\n",
    "        import winreg\n",
    "\n",
    "    @unittest.skipUnless(platform.system() == 'Darwin', 'Mac specific test')\n",
    "    def test_3(self):\n",
    "        self.assertTrue(True)\n",
    "\n",
    "    @unittest.expectedFailure\n",
    "    def test_4(self):\n",
    "        self.assertEqual(2+2, 5)\n",
    "\n",
    "if __name__ == '__main__':\n",
    "    unittest.main()\n",
    "```"
   ]
  },
  {
   "cell_type": "markdown",
   "metadata": {},
   "source": [
    "将如上代码保存后，在 Mac 系统的命令行执行\n",
    "```\n",
    "$ python3 testsample.py -v\n",
    "test_0 (__main__.Tests) ... ok\n",
    "test_1 (__main__.Tests) ... skipped 'skipped test'\n",
    "test_2 (__main__.Tests) ... skipped 'Not supported on Unix'\n",
    "test_3 (__main__.Tests) ... ok\n",
    "test_4 (__main__.Tests) ... expected failure\n",
    "\n",
    "--------------------------------------------------------------\n",
    "Ran 5 tests in 0.002s\n",
    "\n",
    "OK (skipped=2, expected failures=1)\n",
    "```"
   ]
  }
 ],
 "metadata": {
  "kernelspec": {
   "display_name": "Python 3",
   "language": "python",
   "name": "python3"
  },
  "language_info": {
   "codemirror_mode": {
    "name": "ipython",
    "version": 3
   },
   "file_extension": ".py",
   "mimetype": "text/x-python",
   "name": "python",
   "nbconvert_exporter": "python",
   "pygments_lexer": "ipython3",
   "version": "3.6.5"
  }
 },
 "nbformat": 4,
 "nbformat_minor": 2
}
