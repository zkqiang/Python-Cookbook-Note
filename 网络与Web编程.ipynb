{
 "cells": [
  {
   "cell_type": "markdown",
   "metadata": {},
   "source": [
    "# 网络与Web编程\n",
    "---"
   ]
  },
  {
   "cell_type": "markdown",
   "metadata": {},
   "source": [
    "### 实现 TCP 服务器"
   ]
  },
  {
   "cell_type": "markdown",
   "metadata": {},
   "source": [
    "举例实现一个简单的应答服务器"
   ]
  },
  {
   "cell_type": "code",
   "execution_count": 1,
   "metadata": {},
   "outputs": [],
   "source": [
    "from socketserver import BaseRequestHandler\n",
    "\n",
    "\n",
    "class EchoHandler(BaseRequestHandler):\n",
    "\n",
    "    def handle(self):\n",
    "        print('Got connection from', self.client_address)\n",
    "        while True:\n",
    "            msg = self.request.recv(8192)\n",
    "            if not msg:\n",
    "                break\n",
    "            self.request.send(msg)"
   ]
  },
  {
   "cell_type": "markdown",
   "metadata": {},
   "source": [
    "多线程服务端"
   ]
  },
  {
   "cell_type": "code",
   "execution_count": 2,
   "metadata": {},
   "outputs": [],
   "source": [
    "from socketserver import TCPServer\n",
    "from threading import Thread\n",
    "\n",
    "# 线程数\n",
    "NWORKERS = 16\n",
    "\n",
    "# 是否允许地址的重用\n",
    "TCPServer.allow_reuse_address = True\n",
    "serv = TCPServer(('', 20000), EchoHandler, \n",
    "                 # 是否立即绑定并激活 Socket\n",
    "                 bind_and_activate=False)\n",
    "# 手动绑定和激活\n",
    "serv.server_bind()\n",
    "serv.server_activate()\n",
    "\n",
    "for _建立多线程服务端 in range(NWORKERS):\n",
    "    t = Thread(target=serv.serve_forever)\n",
    "    t.daemon = True\n",
    "    t.start()\n",
    "\n",
    "# serv.serve_forever()"
   ]
  },
  {
   "cell_type": "markdown",
   "metadata": {},
   "source": [
    "客户端"
   ]
  },
  {
   "cell_type": "code",
   "execution_count": 3,
   "metadata": {},
   "outputs": [
    {
     "name": "stdout",
     "output_type": "stream",
     "text": [
      "Got connection from ('127.0.0.1', 49201)\n"
     ]
    }
   ],
   "source": [
    "from socket import socket, AF_INET, SOCK_STREAM\n",
    "s = socket(AF_INET, SOCK_STREAM)\n",
    "s.connect(('localhost', 20000))"
   ]
  },
  {
   "cell_type": "code",
   "execution_count": 4,
   "metadata": {},
   "outputs": [
    {
     "data": {
      "text/plain": [
       "5"
      ]
     },
     "execution_count": 4,
     "metadata": {},
     "output_type": "execute_result"
    }
   ],
   "source": [
    "s.send(b'Hello')"
   ]
  },
  {
   "cell_type": "code",
   "execution_count": 5,
   "metadata": {
    "scrolled": true
   },
   "outputs": [
    {
     "data": {
      "text/plain": [
       "b'Hello'"
      ]
     },
     "execution_count": 5,
     "metadata": {},
     "output_type": "execute_result"
    }
   ],
   "source": [
    "s.recv(8192)"
   ]
  },
  {
   "cell_type": "markdown",
   "metadata": {},
   "source": [
    "---\n",
    "使用 socket 直接编程实现同样的应答服务器"
   ]
  },
  {
   "cell_type": "code",
   "execution_count": 6,
   "metadata": {},
   "outputs": [],
   "source": [
    "from socket import socket, AF_INET, SOCK_STREAM\n",
    "\n",
    "def echo_handler(address, client_sock):\n",
    "    print('Got connection from {}'.format(address))\n",
    "    while True:\n",
    "        msg = client_sock.recv(8192)\n",
    "        if not msg:\n",
    "            break\n",
    "        client_sock.sendall(msg)\n",
    "    client_sock.close()\n",
    "\n",
    "def echo_server(address, backlog=5):\n",
    "    sock = socket(AF_INET, SOCK_STREAM)\n",
    "    sock.bind(address)\n",
    "    sock.listen(backlog)\n",
    "    while True:\n",
    "        client_sock, client_addr = sock.accept()\n",
    "        echo_handler(client_addr, client_sock)"
   ]
  },
  {
   "cell_type": "markdown",
   "metadata": {},
   "source": [
    "---\n",
    "实现将一个类文件接口放置在底层 Socket 上"
   ]
  },
  {
   "cell_type": "code",
   "execution_count": 7,
   "metadata": {},
   "outputs": [],
   "source": [
    "import socket\n",
    "from socketserver import StreamRequestHandler, TCPServer\n",
    "\n",
    "\n",
    "class EchoHandler(StreamRequestHandler):\n",
    "    # 以下------是可选配置\n",
    "    # 所有 Socket 操作的超时时间\n",
    "    timeout = 5\n",
    "    # 读缓冲区大小\n",
    "    rbufsize = -1\n",
    "    # 写缓冲区大小\n",
    "    wbufsize = 0\n",
    "    # 设置 TCP_NODELAY 配置\n",
    "    disable_nagle_algorithm = False\n",
    "\n",
    "    def handle(self):\n",
    "        print('Got connection from', self.client_address)\n",
    "        try:\n",
    "            for line in self.rfile:\n",
    "                # self.wfile 是文件类型对象\n",
    "                self.wfile.write(line)\n",
    "        except socket.timeout:\n",
    "            print('Timed out!')"
   ]
  },
  {
   "cell_type": "markdown",
   "metadata": {},
   "source": [
    "---"
   ]
  },
  {
   "cell_type": "markdown",
   "metadata": {},
   "source": [
    "### 实现 UDP 服务器"
   ]
  },
  {
   "cell_type": "markdown",
   "metadata": {},
   "source": [
    "举例实现一个获取时间的服务器"
   ]
  },
  {
   "cell_type": "code",
   "execution_count": 8,
   "metadata": {},
   "outputs": [],
   "source": [
    "from socketserver import BaseRequestHandler\n",
    "import time\n",
    "\n",
    "\n",
    "class TimeHandler(BaseRequestHandler):\n",
    "\n",
    "    def handle(self):\n",
    "        print('Got connection from', self.client_address)\n",
    "        msg, sock = self.request\n",
    "        resp = time.ctime()\n",
    "        sock.sendto(resp.encode('ascii'), self.client_address)"
   ]
  },
  {
   "cell_type": "markdown",
   "metadata": {},
   "source": [
    "多线程服务端"
   ]
  },
  {
   "cell_type": "code",
   "execution_count": 9,
   "metadata": {},
   "outputs": [],
   "source": [
    "from socketserver import UDPServer\n",
    "from threading import Thread\n",
    "\n",
    "# 线程数\n",
    "NWORKERS = 16\n",
    "\n",
    "# 是否允许地址的重用\n",
    "TCPServer.allow_reuse_address = True\n",
    "serv = UDPServer(('', 20000), TimeHandler, \n",
    "                 # 是否立即绑定并激活 Socket\n",
    "                 bind_and_activate=False)\n",
    "# 手动绑定和激活\n",
    "serv.server_bind()\n",
    "serv.server_activate()\n",
    "\n",
    "for _ in range(NWORKERS):\n",
    "    t = Thread(target=serv.serve_forever)\n",
    "    t.daemon = True\n",
    "    t.start()"
   ]
  },
  {
   "cell_type": "markdown",
   "metadata": {},
   "source": [
    "客户端"
   ]
  },
  {
   "cell_type": "code",
   "execution_count": 10,
   "metadata": {},
   "outputs": [],
   "source": [
    "from socket import socket, AF_INET, SOCK_DGRAM\n",
    "s = socket(AF_INET, SOCK_DGRAM)"
   ]
  },
  {
   "cell_type": "code",
   "execution_count": 11,
   "metadata": {},
   "outputs": [
    {
     "name": "stdout",
     "output_type": "stream",
     "text": [
      "Got connection from ('127.0.0.1', 59844)\n"
     ]
    },
    {
     "data": {
      "text/plain": [
       "0"
      ]
     },
     "execution_count": 11,
     "metadata": {},
     "output_type": "execute_result"
    }
   ],
   "source": [
    "s.sendto(b'', ('localhost', 20000))"
   ]
  },
  {
   "cell_type": "code",
   "execution_count": 12,
   "metadata": {},
   "outputs": [
    {
     "data": {
      "text/plain": [
       "(b'Thu Nov  1 17:54:02 2018', ('127.0.0.1', 20000))"
      ]
     },
     "execution_count": 12,
     "metadata": {},
     "output_type": "execute_result"
    }
   ],
   "source": [
    "s.recvfrom(8192)"
   ]
  },
  {
   "cell_type": "markdown",
   "metadata": {},
   "source": [
    "---"
   ]
  },
  {
   "cell_type": "markdown",
   "metadata": {},
   "source": [
    "### 通过CIDR地址生成对应的IP地址集"
   ]
  },
  {
   "cell_type": "code",
   "execution_count": 13,
   "metadata": {},
   "outputs": [],
   "source": [
    "import ipaddress\n",
    "net = ipaddress.ip_network('123.45.67.64/27')"
   ]
  },
  {
   "cell_type": "code",
   "execution_count": 14,
   "metadata": {},
   "outputs": [
    {
     "data": {
      "text/plain": [
       "IPv4Network('123.45.67.64/27')"
      ]
     },
     "execution_count": 14,
     "metadata": {},
     "output_type": "execute_result"
    }
   ],
   "source": [
    "net"
   ]
  },
  {
   "cell_type": "code",
   "execution_count": 15,
   "metadata": {},
   "outputs": [],
   "source": [
    "net6 = ipaddress.ip_network('12:3456:78:90ab:cd:ef01:23:30/125')"
   ]
  },
  {
   "cell_type": "code",
   "execution_count": 16,
   "metadata": {},
   "outputs": [
    {
     "data": {
      "text/plain": [
       "IPv6Network('12:3456:78:90ab:cd:ef01:23:30/125')"
      ]
     },
     "execution_count": 16,
     "metadata": {},
     "output_type": "execute_result"
    }
   ],
   "source": [
    "net6"
   ]
  },
  {
   "cell_type": "code",
   "execution_count": 17,
   "metadata": {},
   "outputs": [
    {
     "data": {
      "text/plain": [
       "32"
      ]
     },
     "execution_count": 17,
     "metadata": {},
     "output_type": "execute_result"
    }
   ],
   "source": [
    "net.num_addresses"
   ]
  },
  {
   "cell_type": "code",
   "execution_count": 18,
   "metadata": {},
   "outputs": [
    {
     "data": {
      "text/plain": [
       "IPv4Address('123.45.67.64')"
      ]
     },
     "execution_count": 18,
     "metadata": {},
     "output_type": "execute_result"
    }
   ],
   "source": [
    "net[0]"
   ]
  },
  {
   "cell_type": "code",
   "execution_count": 19,
   "metadata": {},
   "outputs": [
    {
     "data": {
      "text/plain": [
       "IPv4Address('123.45.67.93')"
      ]
     },
     "execution_count": 19,
     "metadata": {},
     "output_type": "execute_result"
    }
   ],
   "source": [
    "net[-3]"
   ]
  },
  {
   "cell_type": "code",
   "execution_count": 20,
   "metadata": {},
   "outputs": [],
   "source": [
    "a = ipaddress.ip_address('123.45.67.69')"
   ]
  },
  {
   "cell_type": "code",
   "execution_count": 21,
   "metadata": {},
   "outputs": [
    {
     "data": {
      "text/plain": [
       "True"
      ]
     },
     "execution_count": 21,
     "metadata": {},
     "output_type": "execute_result"
    }
   ],
   "source": [
    "a in net"
   ]
  },
  {
   "cell_type": "code",
   "execution_count": 22,
   "metadata": {},
   "outputs": [],
   "source": [
    "b = ipaddress.ip_address('123.45.67.123')"
   ]
  },
  {
   "cell_type": "code",
   "execution_count": 23,
   "metadata": {},
   "outputs": [
    {
     "data": {
      "text/plain": [
       "False"
      ]
     },
     "execution_count": 23,
     "metadata": {},
     "output_type": "execute_result"
    }
   ],
   "source": [
    "b in net"
   ]
  },
  {
   "cell_type": "code",
   "execution_count": 24,
   "metadata": {},
   "outputs": [],
   "source": [
    "inet = ipaddress.ip_interface('123.45.67.73/27')"
   ]
  },
  {
   "cell_type": "code",
   "execution_count": 25,
   "metadata": {},
   "outputs": [
    {
     "data": {
      "text/plain": [
       "IPv4Interface('123.45.67.73/27')"
      ]
     },
     "execution_count": 25,
     "metadata": {},
     "output_type": "execute_result"
    }
   ],
   "source": [
    "inet"
   ]
  },
  {
   "cell_type": "code",
   "execution_count": 26,
   "metadata": {},
   "outputs": [
    {
     "data": {
      "text/plain": [
       "IPv4Network('123.45.67.64/27')"
      ]
     },
     "execution_count": 26,
     "metadata": {},
     "output_type": "execute_result"
    }
   ],
   "source": [
    "inet.network"
   ]
  },
  {
   "cell_type": "code",
   "execution_count": 27,
   "metadata": {},
   "outputs": [
    {
     "data": {
      "text/plain": [
       "IPv4Address('123.45.67.73')"
      ]
     },
     "execution_count": 27,
     "metadata": {},
     "output_type": "execute_result"
    }
   ],
   "source": [
    "inet.ip"
   ]
  },
  {
   "cell_type": "markdown",
   "metadata": {},
   "source": [
    "---"
   ]
  },
  {
   "cell_type": "markdown",
   "metadata": {},
   "source": [
    "### 实现远程调用 Python 命令"
   ]
  },
  {
   "cell_type": "markdown",
   "metadata": {},
   "source": [
    "通过 XML-RPC 实现服务端"
   ]
  },
  {
   "cell_type": "code",
   "execution_count": 28,
   "metadata": {},
   "outputs": [],
   "source": [
    "from xmlrpc.server import SimpleXMLRPCServer\n",
    "\n",
    "\n",
    "class KeyValueServer:\n",
    "    _rpc_methods_ = ['get', 'set', 'delete', 'exists', 'keys']\n",
    "\n",
    "    def __init__(self, address):\n",
    "        self._data = {}\n",
    "        self._serv = SimpleXMLRPCServer(address, allow_none=True)\n",
    "        for name in self._rpc_methods_:\n",
    "            # 注册所有方法\n",
    "            self._serv.register_function(getattr(self, name))\n",
    "\n",
    "    def get(self, name):\n",
    "        return self._data[name]\n",
    "\n",
    "    def set(self, name, value):\n",
    "        self._data[name] = value\n",
    "\n",
    "    def delete(self, name):\n",
    "        del self._data[name]\n",
    "\n",
    "    def exists(self, name):\n",
    "        return name in self._data\n",
    "\n",
    "    def keys(self):\n",
    "        return list(self._data)\n",
    "\n",
    "    def serve_forever(self):\n",
    "        self._serv.serve_forever()"
   ]
  },
  {
   "cell_type": "code",
   "execution_count": 29,
   "metadata": {},
   "outputs": [],
   "source": [
    "from threading import Thread\n",
    "\n",
    "# 线程数\n",
    "NWORKERS = 16\n",
    "\n",
    "serv = KeyValueServer(('', 15000))\n",
    "\n",
    "for _ in range(NWORKERS):\n",
    "    t = Thread(target=serv.serve_forever)\n",
    "    t.daemon = True\n",
    "    t.start()"
   ]
  },
  {
   "cell_type": "markdown",
   "metadata": {},
   "source": [
    "客户端需要用代理访问"
   ]
  },
  {
   "cell_type": "code",
   "execution_count": 30,
   "metadata": {},
   "outputs": [],
   "source": [
    "from xmlrpc.client import ServerProxy\n",
    "s = ServerProxy('http://localhost:15000', allow_none=True)"
   ]
  },
  {
   "cell_type": "code",
   "execution_count": 31,
   "metadata": {},
   "outputs": [
    {
     "name": "stderr",
     "output_type": "stream",
     "text": [
      "127.0.0.1 - - [01/Nov/2018 17:54:02] \"POST /RPC2 HTTP/1.1\" 200 -\n"
     ]
    }
   ],
   "source": [
    "s.set('foo', 'bar')"
   ]
  },
  {
   "cell_type": "code",
   "execution_count": 32,
   "metadata": {},
   "outputs": [
    {
     "name": "stderr",
     "output_type": "stream",
     "text": [
      "127.0.0.1 - - [01/Nov/2018 17:54:02] \"POST /RPC2 HTTP/1.1\" 200 -\n"
     ]
    },
    {
     "data": {
      "text/plain": [
       "['foo']"
      ]
     },
     "execution_count": 32,
     "metadata": {},
     "output_type": "execute_result"
    }
   ],
   "source": [
    "s.keys()"
   ]
  },
  {
   "cell_type": "code",
   "execution_count": 33,
   "metadata": {},
   "outputs": [
    {
     "name": "stderr",
     "output_type": "stream",
     "text": [
      "127.0.0.1 - - [01/Nov/2018 17:54:02] \"POST /RPC2 HTTP/1.1\" 200 -\n"
     ]
    },
    {
     "data": {
      "text/plain": [
       "'bar'"
      ]
     },
     "execution_count": 33,
     "metadata": {},
     "output_type": "execute_result"
    }
   ],
   "source": [
    "s.get('foo')"
   ]
  },
  {
   "cell_type": "code",
   "execution_count": 34,
   "metadata": {},
   "outputs": [
    {
     "name": "stderr",
     "output_type": "stream",
     "text": [
      "127.0.0.1 - - [01/Nov/2018 17:54:02] \"POST /RPC2 HTTP/1.1\" 200 -\n"
     ]
    }
   ],
   "source": [
    "s.delete('foo')"
   ]
  },
  {
   "cell_type": "code",
   "execution_count": 35,
   "metadata": {
    "scrolled": true
   },
   "outputs": [
    {
     "name": "stderr",
     "output_type": "stream",
     "text": [
      "127.0.0.1 - - [01/Nov/2018 17:54:02] \"POST /RPC2 HTTP/1.1\" 200 -\n"
     ]
    },
    {
     "data": {
      "text/plain": [
       "False"
      ]
     },
     "execution_count": 35,
     "metadata": {},
     "output_type": "execute_result"
    }
   ],
   "source": [
    "s.exists('foo')"
   ]
  },
  {
   "cell_type": "markdown",
   "metadata": {},
   "source": [
    "---\n",
    "通过传递 pickle 编码实现服务端"
   ]
  },
  {
   "cell_type": "code",
   "execution_count": 36,
   "metadata": {},
   "outputs": [],
   "source": [
    "import pickle\n",
    "\n",
    "\n",
    "class RPCHandler:\n",
    "    \"\"\" 基于 pickle 的 RPC 处理器，可以注册远程调用的方法\"\"\"\n",
    "\n",
    "    def __init__(self):\n",
    "        self._functions = { }\n",
    "\n",
    "    def register_function(self, func):\n",
    "        self._functions[func.__name__] = func\n",
    "\n",
    "    def handle_connection(self, listener):\n",
    "        try:\n",
    "            connection = listener.accept()\n",
    "            while True:\n",
    "                func_name, args, kwargs = pickle.loads(connection.recv())\n",
    "                try:\n",
    "                    r = self._functions[func_name](*args,**kwargs)\n",
    "                    connection.send(pickle.dumps(r))\n",
    "                except Exception as e:\n",
    "                    connection.send(pickle.dumps(e))\n",
    "        except EOFError:\n",
    "             pass"
   ]
  },
  {
   "cell_type": "markdown",
   "metadata": {},
   "source": [
    "要使用这个处理器，你需要将它加入到一个消息服务器中"
   ]
  },
  {
   "cell_type": "code",
   "execution_count": 37,
   "metadata": {},
   "outputs": [],
   "source": [
    "from multiprocessing.connection import Listener\n",
    "from threading import Thread\n",
    "\n",
    "def rpc_server(handler, address, authkey):\n",
    "    \"\"\" RPC 服务器 \"\"\"\n",
    "    sock = Listener(address, authkey=authkey)\n",
    "    for _ in range(16):\n",
    "        t = Thread(target=handler.handle_connection, args=(sock,))\n",
    "        t.daemon = True\n",
    "        t.start()\n",
    "\n",
    "def add(x, y):\n",
    "    return x + y\n",
    "\n",
    "def sub(x, y):\n",
    "    return x - y\n",
    "\n",
    "handler = RPCHandler()\n",
    "handler.register_function(add)\n",
    "handler.register_function(sub)\n",
    "\n",
    "rpc_server(handler, ('localhost', 17000), authkey=b'peekaboo')"
   ]
  },
  {
   "cell_type": "markdown",
   "metadata": {},
   "source": [
    "实现一个专门传送请求的RPC代理类，用于客户端使用"
   ]
  },
  {
   "cell_type": "code",
   "execution_count": 38,
   "metadata": {},
   "outputs": [],
   "source": [
    "import pickle\n",
    "\n",
    "\n",
    "class RPCProxy:\n",
    "\n",
    "    def __init__(self, connection):\n",
    "        self._connection = connection\n",
    "\n",
    "    def __getattr__(self, name):\n",
    "        def do_rpc(*args, **kwargs):\n",
    "            self._connection.send(pickle.dumps((name, args, kwargs)))\n",
    "            result = pickle.loads(self._connection.recv())\n",
    "            if isinstance(result, Exception):\n",
    "                raise result\n",
    "            return result\n",
    "        return do_rpc"
   ]
  },
  {
   "cell_type": "markdown",
   "metadata": {},
   "source": [
    "客户端"
   ]
  },
  {
   "cell_type": "code",
   "execution_count": 39,
   "metadata": {},
   "outputs": [],
   "source": [
    "from multiprocessing.connection import Client\n",
    "c = Client(('localhost', 17000), authkey=b'peekaboo')\n",
    "proxy = RPCProxy(c)"
   ]
  },
  {
   "cell_type": "code",
   "execution_count": 40,
   "metadata": {},
   "outputs": [
    {
     "data": {
      "text/plain": [
       "5"
      ]
     },
     "execution_count": 40,
     "metadata": {},
     "output_type": "execute_result"
    }
   ],
   "source": [
    "proxy.add(2, 3)"
   ]
  },
  {
   "cell_type": "code",
   "execution_count": 41,
   "metadata": {},
   "outputs": [
    {
     "data": {
      "text/plain": [
       "-1"
      ]
     },
     "execution_count": 41,
     "metadata": {},
     "output_type": "execute_result"
    }
   ],
   "source": [
    "proxy.sub(2, 3)"
   ]
  },
  {
   "cell_type": "markdown",
   "metadata": {},
   "source": [
    "---"
   ]
  },
  {
   "cell_type": "markdown",
   "metadata": {},
   "source": [
    "### 在不同的Python解释器之间通信"
   ]
  },
  {
   "cell_type": "markdown",
   "metadata": {},
   "source": [
    "注意：不要使用 `multiprocessing` 来实现一个对外的公共服务，避免安全问题"
   ]
  },
  {
   "cell_type": "code",
   "execution_count": 42,
   "metadata": {},
   "outputs": [],
   "source": [
    "from multiprocessing.connection import Listener\n",
    "import traceback\n",
    "\n",
    "def echo_client(conn):\n",
    "    try:\n",
    "        while True:\n",
    "            msg = conn.recv()\n",
    "            conn.send(msg)\n",
    "    except EOFError:\n",
    "        print('Connection closed')\n",
    "\n",
    "def echo_server(address, authkey):\n",
    "    serv = Listener(address, authkey=authkey)\n",
    "    while True:\n",
    "        try:\n",
    "            client = serv.accept()\n",
    "            echo_client(client)\n",
    "        except Exception:\n",
    "            traceback.print_exc()"
   ]
  },
  {
   "cell_type": "markdown",
   "metadata": {},
   "source": [
    "服务端启动在线程里，避免阻塞"
   ]
  },
  {
   "cell_type": "code",
   "execution_count": 43,
   "metadata": {},
   "outputs": [],
   "source": [
    "from threading import Thread\n",
    "\n",
    "t = Thread(target=echo_server, \n",
    "           args=(('', 25000), b'peekaboo'))\n",
    "t.daemon = True\n",
    "t.start()"
   ]
  },
  {
   "cell_type": "code",
   "execution_count": 44,
   "metadata": {},
   "outputs": [],
   "source": [
    "from multiprocessing.connection import Client\n",
    "c = Client(('localhost', 25000), authkey=b'peekaboo')"
   ]
  },
  {
   "cell_type": "code",
   "execution_count": 45,
   "metadata": {},
   "outputs": [],
   "source": [
    "c.send('hello')"
   ]
  },
  {
   "cell_type": "code",
   "execution_count": 46,
   "metadata": {
    "scrolled": true
   },
   "outputs": [
    {
     "data": {
      "text/plain": [
       "'hello'"
      ]
     },
     "execution_count": 46,
     "metadata": {},
     "output_type": "execute_result"
    }
   ],
   "source": [
    "c.recv()"
   ]
  },
  {
   "cell_type": "code",
   "execution_count": 47,
   "metadata": {},
   "outputs": [],
   "source": [
    "c.send([1, 2, 3, 4, 5])"
   ]
  },
  {
   "cell_type": "code",
   "execution_count": 48,
   "metadata": {
    "scrolled": true
   },
   "outputs": [
    {
     "data": {
      "text/plain": [
       "[1, 2, 3, 4, 5]"
      ]
     },
     "execution_count": 48,
     "metadata": {},
     "output_type": "execute_result"
    }
   ],
   "source": [
    "c.recv()"
   ]
  },
  {
   "cell_type": "code",
   "execution_count": 49,
   "metadata": {},
   "outputs": [
    {
     "name": "stdout",
     "output_type": "stream",
     "text": [
      "Connection closed\n"
     ]
    }
   ],
   "source": [
    "c.close()"
   ]
  },
  {
   "cell_type": "markdown",
   "metadata": {},
   "source": [
    "---"
   ]
  },
  {
   "cell_type": "markdown",
   "metadata": {},
   "source": [
    "### 简单的客户端认证"
   ]
  },
  {
   "cell_type": "markdown",
   "metadata": {},
   "source": [
    "可以利用 `hmac` 模块实现一个连接握手，`hmac` 认证的一个常见使用场景是内部消息通信系统和进程间通信。基于 `hmac` 的认证被 `multiprocessing` 模块使用来实现子进程直接的通信。"
   ]
  },
  {
   "cell_type": "code",
   "execution_count": 50,
   "metadata": {},
   "outputs": [],
   "source": [
    "import hmac\n",
    "import os\n",
    "\n",
    "def client_authenticate(connection, secret_key):\n",
    "    \"\"\"\n",
    "    认证客户端\n",
    "    收到服务端发来的随机字节后，\n",
    "    通过 hmac 和密钥参数计算哈希，\n",
    "    然后将哈希发送给服务端\n",
    "    \"\"\"\n",
    "    message = connection.recv(32)\n",
    "    hash = hmac.new(secret_key, message)\n",
    "    digest = hash.digest()\n",
    "    connection.send(digest)\n",
    "\n",
    "def server_authenticate(connection, secret_key):\n",
    "    \"\"\"\n",
    "    认证服务端\n",
    "    收到认证请求后，生成一串随机字节发送给客户端，\n",
    "    然后通过 hmac 和密钥参数计算哈希，等待客户端发来哈希进行对比\n",
    "    \"\"\"\n",
    "    message = os.urandom(32)\n",
    "    connection.send(message)\n",
    "    hash = hmac.new(secret_key, message)\n",
    "    digest = hash.digest()\n",
    "    response = connection.recv(len(digest))\n",
    "    # 返回布尔值\n",
    "    return hmac.compare_digest(digest, response)"
   ]
  },
  {
   "cell_type": "markdown",
   "metadata": {},
   "source": [
    "将认证函数应用到 socket 中"
   ]
  },
  {
   "cell_type": "code",
   "execution_count": 51,
   "metadata": {},
   "outputs": [],
   "source": [
    "from socket import socket, AF_INET, SOCK_STREAM\n",
    "\n",
    "secret_key = b'peekaboo'\n",
    "\n",
    "def echo_handler(client_sock):\n",
    "    if not server_authenticate(client_sock, secret_key):\n",
    "        client_sock.close()\n",
    "        return\n",
    "    while True:\n",
    "        msg = client_sock.recv(8192)\n",
    "        if not msg:\n",
    "            break\n",
    "        client_sock.sendall(msg)\n",
    "\n",
    "def echo_server(address):\n",
    "    s = socket(AF_INET, SOCK_STREAM)\n",
    "    s.bind(address)\n",
    "    s.listen(5)\n",
    "    while True:\n",
    "        c,a = s.accept()\n",
    "        echo_handler(c)"
   ]
  },
  {
   "cell_type": "code",
   "execution_count": 52,
   "metadata": {},
   "outputs": [],
   "source": [
    "from threading import Thread\n",
    "\n",
    "t = Thread(target=echo_server, \n",
    "           args=(('', 18000),))\n",
    "t.daemon = True\n",
    "t.start()"
   ]
  },
  {
   "cell_type": "code",
   "execution_count": 53,
   "metadata": {},
   "outputs": [],
   "source": [
    "from socket import socket, AF_INET, SOCK_STREAM\n",
    "\n",
    "secret_key = b'peekaboo'\n",
    "\n",
    "s = socket(AF_INET, SOCK_STREAM)\n",
    "s.connect(('localhost', 18000))\n",
    "client_authenticate(s, secret_key)"
   ]
  },
  {
   "cell_type": "code",
   "execution_count": 54,
   "metadata": {},
   "outputs": [
    {
     "data": {
      "text/plain": [
       "11"
      ]
     },
     "execution_count": 54,
     "metadata": {},
     "output_type": "execute_result"
    }
   ],
   "source": [
    "s.send(b'Hello World')"
   ]
  },
  {
   "cell_type": "code",
   "execution_count": 55,
   "metadata": {},
   "outputs": [
    {
     "data": {
      "text/plain": [
       "b'Hello World'"
      ]
     },
     "execution_count": 55,
     "metadata": {},
     "output_type": "execute_result"
    }
   ],
   "source": [
    "s.recv(1024)"
   ]
  },
  {
   "cell_type": "markdown",
   "metadata": {},
   "source": [
    "---"
   ]
  },
  {
   "cell_type": "markdown",
   "metadata": {},
   "source": [
    "### 在网络服务中加入SSL"
   ]
  },
  {
   "cell_type": "markdown",
   "metadata": {},
   "source": [
    "实现一个基于 Sockets 的网络服务，客户端和服务器通过 SSL 协议认证并加密传输的数据。  \n",
    "可以通过定义一个 Mixin 类来添加 SSL"
   ]
  },
  {
   "cell_type": "code",
   "execution_count": 56,
   "metadata": {},
   "outputs": [],
   "source": [
    "import ssl\n",
    "\n",
    "\n",
    "class SSLMixin:\n",
    "\n",
    "    def __init__(self, *args,\n",
    "                 keyfile=None, certfile=None, ca_certs=None,\n",
    "                 cert_reqs=ssl.CERT_NONE,\n",
    "                 **kwargs):\n",
    "        self._keyfile = keyfile\n",
    "        self._certfile = certfile\n",
    "        self._ca_certs = ca_certs\n",
    "        self._cert_reqs = cert_reqs\n",
    "        super().__init__(*args, **kwargs)\n",
    "\n",
    "    def get_request(self):\n",
    "        client, addr = super().get_request()\n",
    "        client_ssl = ssl.wrap_socket(\n",
    "            client,\n",
    "            keyfile = self._keyfile,\n",
    "            certfile = self._certfile,\n",
    "            ca_certs = self._ca_certs,\n",
    "            cert_reqs = self._cert_reqs,\n",
    "            server_side = True\n",
    "        )\n",
    "        return client_ssl, addr"
   ]
  },
  {
   "cell_type": "markdown",
   "metadata": {},
   "source": [
    "定义一个基于 SSL 的 XML-RPC 服务器"
   ]
  },
  {
   "cell_type": "code",
   "execution_count": 57,
   "metadata": {},
   "outputs": [],
   "source": [
    "import ssl\n",
    "from xmlrpc.server import SimpleXMLRPCServer\n",
    "\n",
    "\n",
    "class SSLSimpleXMLRPCServer(SSLMixin, SimpleXMLRPCServer):\n",
    "    pass\n",
    "\n",
    "\n",
    "class KeyValueServer:\n",
    "    _rpc_methods_ = ['get', 'set', 'delete', 'exists', 'keys']\n",
    "\n",
    "    def __init__(self, *args, **kwargs):\n",
    "        self._data = {}\n",
    "        self._serv = SSLSimpleXMLRPCServer(\n",
    "            *args, allow_none=True, **kwargs)\n",
    "        for name in self._rpc_methods_:\n",
    "            self._serv.register_function(getattr(self, name))\n",
    "\n",
    "    def get(self, name):\n",
    "        return self._data[name]\n",
    "\n",
    "    def set(self, name, value):\n",
    "        self._data[name] = value\n",
    "\n",
    "    def delete(self, name):\n",
    "        del self._data[name]\n",
    "\n",
    "    def exists(self, name):\n",
    "        return name in self._data\n",
    "\n",
    "    def keys(self):\n",
    "        return list(self._data)\n",
    "\n",
    "    def serve_forever(self):\n",
    "        self._serv.serve_forever()"
   ]
  },
  {
   "cell_type": "markdown",
   "metadata": {},
   "source": [
    "这里为了测试，需要先创建自签名证书：  \n",
    "`openssl req -new -x509 -days 365 -nodes -out server_cert.pem -keyout server_key.pem`\n",
    "\n",
    "然后再复制并重命名一份 client 证书，一起保存在当前目录下"
   ]
  },
  {
   "cell_type": "code",
   "execution_count": 58,
   "metadata": {},
   "outputs": [],
   "source": [
    "from threading import Thread\n",
    "\n",
    "KEYFILE='server_key.pem'\n",
    "CERTFILE='server_cert.pem'\n",
    "CA_CERTS='client_cert.pem'\n",
    "\n",
    "kvserv = KeyValueServer(('', 16000),\n",
    "                        keyfile=KEYFILE,\n",
    "                        certfile=CERTFILE,\n",
    "                        ca_certs=CA_CERTS,\n",
    "                        cert_reqs=ssl.CERT_REQUIRED)\n",
    "\n",
    "t = Thread(target=kvserv.serve_forever)\n",
    "t.daemon = True\n",
    "t.start()"
   ]
  },
  {
   "cell_type": "code",
   "execution_count": 59,
   "metadata": {},
   "outputs": [],
   "source": [
    "from xmlrpc.client import SafeTransport, ServerProxy\n",
    "import ssl\n",
    "\n",
    "\n",
    "class VerifyCertSafeTransport(SafeTransport):\n",
    "\n",
    "    def __init__(self, cafile, certfile=None, keyfile=None):\n",
    "        SafeTransport.__init__(self)\n",
    "        self._ssl_context = ssl.SSLContext(ssl.PROTOCOL_TLSv1)\n",
    "        self._ssl_context.load_verify_locations(cafile)\n",
    "        if certfile:\n",
    "            self._ssl_context.load_cert_chain(certfile, keyfile)\n",
    "        self._ssl_context.verify_mode = ssl.CERT_REQUIRED\n",
    "        self.context = self._ssl_context"
   ]
  },
  {
   "cell_type": "code",
   "execution_count": 60,
   "metadata": {},
   "outputs": [
    {
     "name": "stdout",
     "output_type": "stream",
     "text": [
      "Error: pem file not found\n"
     ]
    }
   ],
   "source": [
    "try:\n",
    "    s = ServerProxy('https://localhost:16000',\n",
    "                    transport=VerifyCertSafeTransport('server_cert.pem',\n",
    "                                                      'client_cert.pem',\n",
    "                                                      'client_key.pem'),\n",
    "                    allow_none=True)\n",
    "    print('Set:', s.set('foo','bar'))\n",
    "    print('Get:', s.get('foo'))\n",
    "except FileNotFoundError:\n",
    "    print('Error: pem file not found')"
   ]
  },
  {
   "cell_type": "markdown",
   "metadata": {},
   "source": [
    "---"
   ]
  },
  {
   "cell_type": "markdown",
   "metadata": {},
   "source": [
    "### 进程间传递 Socket 文件描述符"
   ]
  },
  {
   "cell_type": "markdown",
   "metadata": {},
   "source": [
    "当有多个 Python 解释器进程在同时运行，需求将某个打开的文件描述符从一个解释器传递给另外一个。这个实现通常使用 `multiprocessing` 模块来创建进程之间的管道连接，然后使用 `multiprocessing.reduction` 中的 `send_handle` 和 `recv_handle` 函数在不同的处理器直接传递文件描述符"
   ]
  },
  {
   "cell_type": "code",
   "execution_count": 61,
   "metadata": {},
   "outputs": [],
   "source": [
    "import multiprocessing\n",
    "from multiprocessing.reduction import recv_handle, send_handle\n",
    "import socket\n",
    "\n",
    "def worker(in_p, out_p):\n",
    "    \"\"\"\n",
    "    工作进程\n",
    "    通过 recv_handle 接收一个文件描述符，\n",
    "    接收到后创建 Socket 并向客户端回应数据\n",
    "    \"\"\"\n",
    "    out_p.close()\n",
    "    while True:\n",
    "        fd = recv_handle(in_p)\n",
    "        print('CHILD: GOT FD', fd)\n",
    "        with socket.socket(\n",
    "            socket.AF_INET, socket.SOCK_STREAM, fileno=fd) as s:\n",
    "            while True:\n",
    "                msg = s.recv(1024)\n",
    "                if not msg:\n",
    "                    break\n",
    "                print('CHILD: RECV {!r}'.format(msg))\n",
    "                s.send(msg)\n",
    "\n",
    "def server(address, in_p, out_p, worker_pid):\n",
    "    \"\"\"\n",
    "    服务进程\n",
    "    创建 Socket 并等待工作进程的连接请求，接收到请求后，\n",
    "    将产生的 Socket 文件描述符通过 send_handle 传递给工作进程\n",
    "    \"\"\"\n",
    "    in_p.close()\n",
    "    s = socket.socket(socket.AF_INET, socket.SOCK_STREAM)\n",
    "    s.setsockopt(socket.SOL_SOCKET, socket.SO_REUSEADDR, True)\n",
    "    s.bind(address)\n",
    "    s.listen(1)\n",
    "    while True:\n",
    "        client, addr = s.accept()\n",
    "        print('SERVER: Got connection from', addr)\n",
    "        send_handle(out_p, client.fileno(), worker_pid)\n",
    "        client.close()"
   ]
  },
  {
   "cell_type": "code",
   "execution_count": 62,
   "metadata": {},
   "outputs": [],
   "source": [
    "c1, c2 = multiprocessing.Pipe()\n",
    "worker_p = multiprocessing.Process(target=worker, args=(c1,c2))\n",
    "worker_p.start()\n",
    "\n",
    "server_p = multiprocessing.Process(target=server,\n",
    "              args=(('', 19000), c1, c2, worker_p.pid))\n",
    "server_p.start()\n",
    "\n",
    "c1.close()\n",
    "c2.close()"
   ]
  },
  {
   "cell_type": "markdown",
   "metadata": {},
   "source": [
    "---"
   ]
  },
  {
   "cell_type": "markdown",
   "metadata": {},
   "source": [
    "### 理解事件驱动的 I/O"
   ]
  },
  {
   "cell_type": "markdown",
   "metadata": {},
   "source": [
    "事件驱动 I/O 本质上来讲就是将基本 I/O 操作（比如读和写）转化为程序需要处理的事件  \n",
    "举例实现一系列基本事件处理器"
   ]
  },
  {
   "cell_type": "code",
   "execution_count": 63,
   "metadata": {},
   "outputs": [],
   "source": [
    "class EventHandler:\n",
    "\n",
    "    def fileno(self):\n",
    "        raise NotImplemented('must implement')\n",
    "\n",
    "    def wants_to_receive(self):\n",
    "        return False\n",
    "\n",
    "    def handle_receive(self):\n",
    "        pass\n",
    "\n",
    "    def wants_to_send(self):\n",
    "        return False\n",
    "\n",
    "    def handle_send(self):\n",
    "        pass"
   ]
  },
  {
   "cell_type": "markdown",
   "metadata": {},
   "source": [
    "事件循环函数，其关键部分是 `select` 调用，它会不断轮询文件描述符从而激活它"
   ]
  },
  {
   "cell_type": "code",
   "execution_count": 64,
   "metadata": {},
   "outputs": [],
   "source": [
    "import select\n",
    "\n",
    "def event_loop(handlers):\n",
    "    while True:\n",
    "        # 先询问所有的处理器来决定哪一个想接受或发送\n",
    "        wants_recv = [h for h in handlers if h.wants_to_receive()]\n",
    "        wants_send = [h for h in handlers if h.wants_to_send()]\n",
    "        # 通过 select 返回准备接受或发送的对象组成的列表\n",
    "        can_recv, can_send, _ = select.select(wants_recv, wants_send, [])\n",
    "        # 触发对应方法\n",
    "        for h in can_recv:\n",
    "            h.handle_receive()\n",
    "        for h in can_send:\n",
    "            h.handle_send()"
   ]
  },
  {
   "cell_type": "markdown",
   "metadata": {},
   "source": [
    "基于UDP网络服务的处理器"
   ]
  },
  {
   "cell_type": "code",
   "execution_count": 65,
   "metadata": {},
   "outputs": [],
   "source": [
    "import socket\n",
    "import time\n",
    "\n",
    "\n",
    "class UDPServer(EventHandler):\n",
    "\n",
    "    def __init__(self, address):\n",
    "        self.sock = socket.socket(socket.AF_INET, socket.SOCK_DGRAM)\n",
    "        self.sock.bind(address)\n",
    "\n",
    "    def fileno(self):\n",
    "        return self.sock.fileno()\n",
    "\n",
    "    def wants_to_receive(self):\n",
    "        return True\n",
    "\n",
    "\n",
    "class UDPTimeServer(UDPServer):\n",
    "\n",
    "    def handle_receive(self):\n",
    "        msg, addr = self.sock.recvfrom(1)\n",
    "        self.sock.sendto(time.ctime().encode('ascii'), addr)\n",
    "\n",
    "\n",
    "class UDPEchoServer(UDPServer):\n",
    "\n",
    "    def handle_receive(self):\n",
    "        msg, addr = self.sock.recvfrom(8192)\n",
    "        self.sock.sendto(msg, addr)"
   ]
  },
  {
   "cell_type": "code",
   "execution_count": 66,
   "metadata": {},
   "outputs": [],
   "source": [
    "from threading import Thread\n",
    "\n",
    "handlers = [UDPTimeServer(('', 21000)), UDPEchoServer(('', 22000))]\n",
    "\n",
    "t = Thread(target=event_loop, args=(handlers,))\n",
    "t.daemon = True\n",
    "t.start()"
   ]
  },
  {
   "cell_type": "code",
   "execution_count": 67,
   "metadata": {},
   "outputs": [],
   "source": [
    "from socket import socket, AF_INET, SOCK_STREAM\n",
    "s = socket(AF_INET, SOCK_DGRAM)"
   ]
  },
  {
   "cell_type": "code",
   "execution_count": 68,
   "metadata": {},
   "outputs": [
    {
     "data": {
      "text/plain": [
       "0"
      ]
     },
     "execution_count": 68,
     "metadata": {},
     "output_type": "execute_result"
    }
   ],
   "source": [
    "s.sendto(b'', ('localhost', 21000))"
   ]
  },
  {
   "cell_type": "code",
   "execution_count": 69,
   "metadata": {},
   "outputs": [
    {
     "data": {
      "text/plain": [
       "(b'Thu Nov  1 17:54:02 2018', ('127.0.0.1', 21000))"
      ]
     },
     "execution_count": 69,
     "metadata": {},
     "output_type": "execute_result"
    }
   ],
   "source": [
    "s.recvfrom(128)"
   ]
  },
  {
   "cell_type": "code",
   "execution_count": 70,
   "metadata": {},
   "outputs": [
    {
     "data": {
      "text/plain": [
       "5"
      ]
     },
     "execution_count": 70,
     "metadata": {},
     "output_type": "execute_result"
    }
   ],
   "source": [
    "s.sendto(b'Hello', ('localhost', 22000))"
   ]
  },
  {
   "cell_type": "code",
   "execution_count": 71,
   "metadata": {},
   "outputs": [
    {
     "data": {
      "text/plain": [
       "(b'Hello', ('127.0.0.1', 22000))"
      ]
     },
     "execution_count": 71,
     "metadata": {},
     "output_type": "execute_result"
    }
   ],
   "source": [
    "s.recvfrom(128)"
   ]
  },
  {
   "cell_type": "markdown",
   "metadata": {},
   "source": [
    "---\n",
    "TCP服务器复杂一些，因为每一个客户端都要初始化一个新的处理器对象"
   ]
  },
  {
   "cell_type": "code",
   "execution_count": 72,
   "metadata": {},
   "outputs": [],
   "source": [
    "import socket\n",
    "\n",
    "\n",
    "class TCPServer(EventHandler):\n",
    "\n",
    "    def __init__(self, address, client_handler, handler_list):\n",
    "        self.sock = socket.socket(\n",
    "            socket.AF_INET, socket.SOCK_STREAM)\n",
    "        self.sock.setsockopt(\n",
    "            socket.SOL_SOCKET, socket.SO_REUSEADDR, True)\n",
    "        self.sock.bind(address)\n",
    "        self.sock.listen(1)\n",
    "        self.client_handler = client_handler\n",
    "        self.handler_list = handler_list\n",
    "\n",
    "    def fileno(self):\n",
    "        return self.sock.fileno()\n",
    "\n",
    "    def wants_to_receive(self):\n",
    "        return True\n",
    "\n",
    "    def handle_receive(self):\n",
    "        client, addr = self.sock.accept()\n",
    "        # 对于每一个连接，新的处理器被添加到列表中\n",
    "        self.handler_list.append(\n",
    "            self.client_handler(client, self.handler_list))\n",
    "\n",
    "\n",
    "class TCPClient(EventHandler):\n",
    "\n",
    "    def __init__(self, sock, handler_list):\n",
    "        self.sock = sock\n",
    "        self.handler_list = handler_list\n",
    "        self.outgoing = bytearray()\n",
    "\n",
    "    def fileno(self):\n",
    "        return self.sock.fileno()\n",
    "\n",
    "    def close(self):\n",
    "        self.sock.close()\n",
    "        # 当连接被关闭后，客户端需要将自身从列表中删除\n",
    "        self.handler_list.remove(self)\n",
    "\n",
    "    def wants_to_send(self):\n",
    "        return True if self.outgoing else False\n",
    "\n",
    "    def handle_send(self):\n",
    "        nsent = self.sock.send(self.outgoing)\n",
    "        self.outgoing = self.outgoing[nsent:]\n",
    "\n",
    "\n",
    "class TCPEchoClient(TCPClient):\n",
    "\n",
    "    def wants_to_receive(self):\n",
    "        return True\n",
    "\n",
    "    def handle_receive(self):\n",
    "        data = self.sock.recv(8192)\n",
    "        if not data:\n",
    "            self.close()\n",
    "        else:\n",
    "            self.outgoing.extend(data)"
   ]
  },
  {
   "cell_type": "code",
   "execution_count": 73,
   "metadata": {},
   "outputs": [],
   "source": [
    "from threading import Thread\n",
    "\n",
    "handlers = []\n",
    "handlers.append(TCPServer(('', 23000), TCPEchoClient, handlers))\n",
    "\n",
    "t = Thread(target=event_loop, args=(handlers,))\n",
    "t.daemon = True\n",
    "t.start()"
   ]
  },
  {
   "cell_type": "code",
   "execution_count": 74,
   "metadata": {},
   "outputs": [],
   "source": [
    "from socket import socket, AF_INET, SOCK_STREAM\n",
    "s = socket(AF_INET, SOCK_STREAM)\n",
    "s.connect(('localhost', 23000))"
   ]
  },
  {
   "cell_type": "code",
   "execution_count": 75,
   "metadata": {},
   "outputs": [
    {
     "data": {
      "text/plain": [
       "5"
      ]
     },
     "execution_count": 75,
     "metadata": {},
     "output_type": "execute_result"
    }
   ],
   "source": [
    "s.send(b'Hello')"
   ]
  },
  {
   "cell_type": "code",
   "execution_count": 76,
   "metadata": {
    "scrolled": true
   },
   "outputs": [
    {
     "data": {
      "text/plain": [
       "b'Hello'"
      ]
     },
     "execution_count": 76,
     "metadata": {},
     "output_type": "execute_result"
    }
   ],
   "source": [
    "s.recv(8192)"
   ]
  },
  {
   "cell_type": "markdown",
   "metadata": {},
   "source": [
    "---\n",
    "当面对事件阻塞或耗时计算的问题，需要通过将事件发送给其他单独的线程或进程来处理"
   ]
  },
  {
   "cell_type": "code",
   "execution_count": 77,
   "metadata": {},
   "outputs": [],
   "source": [
    "from concurrent.futures import ThreadPoolExecutor\n",
    "import socket\n",
    "import os\n",
    "\n",
    "\n",
    "class ThreadPoolHandler(EventHandler):\n",
    "\n",
    "    def __init__(self, nworkers):\n",
    "        \"\"\" 创建一对 Socket 作为信号量机制，来协调计算结果和事件循环\"\"\"\n",
    "        if os.name == 'posix':\n",
    "            self.signal_done_sock, self.done_sock = socket.socketpair()\n",
    "        else:\n",
    "            server = socket.socket(socket.AF_INET, socket.SOCK_STREAM)\n",
    "            server.bind(('127.0.0.1', 0))\n",
    "            server.listen(1)\n",
    "            self.signal_done_sock = socket.socket(socket.AF_INET,\n",
    "                                                  socket.SOCK_STREAM)\n",
    "            self.signal_done_sock.connect(server.getsockname())\n",
    "            self.done_sock, _ = server.accept()\n",
    "            server.close()\n",
    "\n",
    "        self.pending = []\n",
    "        self.pool = ThreadPoolExecutor(nworkers)\n",
    "\n",
    "    def fileno(self):\n",
    "        return self.done_sock.fileno()\n",
    "\n",
    "    def _complete(self, callback, r):\n",
    "        \"\"\" 将挂起的回调函数和结果放入队列中，然后发出信号 \"\"\"\n",
    "        self.pending.append((callback, r.result()))\n",
    "        self.signal_done_sock.send(b'x')\n",
    "\n",
    "    def run(self, func, args=(), kwargs={},*,callback):\n",
    "        \"\"\" 将工作提交给线程池，完成后回调 _complete 方法 \"\"\"\n",
    "        r = self.pool.submit(func, *args, **kwargs)\n",
    "        r.add_done_callback(lambda r: self._complete(callback, r))\n",
    "\n",
    "    def wants_to_receive(self):\n",
    "        return True\n",
    "\n",
    "    def handle_receive(self):\n",
    "        for callback, result in self.pending:\n",
    "            callback(result)\n",
    "            self.done_sock.recv(1)\n",
    "        self.pending = []"
   ]
  },
  {
   "cell_type": "markdown",
   "metadata": {},
   "source": [
    "通过计算斐波那契数列，来测试多线程的事件循环"
   ]
  },
  {
   "cell_type": "code",
   "execution_count": 78,
   "metadata": {},
   "outputs": [],
   "source": [
    "def fib(n):\n",
    "    if n < 2:\n",
    "        return 1\n",
    "    else:\n",
    "        return fib(n - 1) + fib(n - 2)\n",
    "\n",
    "\n",
    "class UDPFibServer(UDPServer):\n",
    "\n",
    "    def handle_receive(self):\n",
    "        msg, addr = self.sock.recvfrom(128)\n",
    "        n = int(msg)\n",
    "        pool.run(fib, (n,), callback=lambda r: self.respond(r, addr))\n",
    "\n",
    "    def respond(self, result, addr):\n",
    "        self.sock.sendto(str(result).encode('ascii'), addr)"
   ]
  },
  {
   "cell_type": "code",
   "execution_count": 79,
   "metadata": {},
   "outputs": [],
   "source": [
    "from threading import Thread\n",
    "\n",
    "pool = ThreadPoolHandler(16)\n",
    "handlers = [pool, UDPFibServer(('', 24000))]\n",
    "\n",
    "t = Thread(target=event_loop, args=(handlers,))\n",
    "t.daemon = True\n",
    "t.start()"
   ]
  },
  {
   "cell_type": "code",
   "execution_count": 80,
   "metadata": {},
   "outputs": [
    {
     "name": "stdout",
     "output_type": "stream",
     "text": [
      "b'1' b'1' b'2' b'3' b'5' b'8' b'13' b'21' b'34' b'55' b'89' b'144' b'233' b'377' b'610' b'987' b'1597' b'2584' b'4181' b'6765' b'10946' b'17711' b'28657' b'46368' b'75025' b'121393' b'196418' b'317811' b'514229' b'832040' b'1346269' b'2178309' b'3524578' b'5702887' b'9227465' "
     ]
    }
   ],
   "source": [
    "from socket import *\n",
    "\n",
    "sock = socket(AF_INET, SOCK_DGRAM)\n",
    "\n",
    "for x in range(35):\n",
    "    sock.sendto(str(x).encode('ascii'), ('localhost', 24000))\n",
    "    resp = sock.recvfrom(8192)\n",
    "    print(resp[0], end=' ')"
   ]
  },
  {
   "cell_type": "markdown",
   "metadata": {},
   "source": [
    "---"
   ]
  },
  {
   "cell_type": "markdown",
   "metadata": {},
   "source": [
    "### 发送与接收大型数组"
   ]
  },
  {
   "cell_type": "code",
   "execution_count": 81,
   "metadata": {},
   "outputs": [],
   "source": [
    "def send_from(arr, dest):\n",
    "    # 将数组转换为无符号字节的内存视图\n",
    "    view = memoryview(arr).cast('B')\n",
    "    while len(view):\n",
    "        nsent = dest.send(view)\n",
    "        view = view[nsent:]\n",
    "\n",
    "def recv_into(arr, source):\n",
    "    view = memoryview(arr).cast('B')\n",
    "    while len(view):\n",
    "        nrecv = source.recv_into(view)\n",
    "        view = view[nrecv:]"
   ]
  },
  {
   "cell_type": "markdown",
   "metadata": {},
   "source": [
    "服务端"
   ]
  },
  {
   "cell_type": "code",
   "execution_count": 82,
   "metadata": {},
   "outputs": [],
   "source": [
    "from socket import socket, AF_INET, SOCK_STREAM\n",
    "s = socket(AF_INET, SOCK_STREAM)\n",
    "s.bind(('', 26000))\n",
    "s.listen(1)"
   ]
  },
  {
   "cell_type": "markdown",
   "metadata": {},
   "source": [
    "客户端"
   ]
  },
  {
   "cell_type": "code",
   "execution_count": 83,
   "metadata": {},
   "outputs": [],
   "source": [
    "from socket import socket, AF_INET, SOCK_STREAM\n",
    "c = socket(AF_INET, SOCK_STREAM)\n",
    "c.connect(('localhost', 26000))"
   ]
  },
  {
   "cell_type": "markdown",
   "metadata": {},
   "source": [
    "服务端发送数组"
   ]
  },
  {
   "cell_type": "code",
   "execution_count": 84,
   "metadata": {},
   "outputs": [],
   "source": [
    "from threading import Thread\n",
    "import numpy\n",
    "\n",
    "s_a = numpy.arange(0.0, 5000000.0)\n",
    "\n",
    "t = Thread(target=send_from, args=(s_a, c))\n",
    "t.daemon = True\n",
    "t.start()"
   ]
  },
  {
   "cell_type": "markdown",
   "metadata": {},
   "source": [
    "客户端需要预知数组的长度，然后接收数组"
   ]
  },
  {
   "cell_type": "code",
   "execution_count": 85,
   "metadata": {},
   "outputs": [],
   "source": [
    "from threading import Thread\n",
    "import numpy\n",
    "\n",
    "c_a = numpy.zeros(shape=50000000, dtype=float)\n",
    "\n",
    "t = Thread(target=recv_into, args=(c_a, c))\n",
    "t.daemon = True\n",
    "t.start()"
   ]
  },
  {
   "cell_type": "code",
   "execution_count": 86,
   "metadata": {},
   "outputs": [
    {
     "data": {
      "text/plain": [
       "array([0., 0., 0., 0., 0., 0., 0., 0., 0., 0.])"
      ]
     },
     "execution_count": 86,
     "metadata": {},
     "output_type": "execute_result"
    }
   ],
   "source": [
    "c_a[0:10]"
   ]
  }
 ],
 "metadata": {
  "kernelspec": {
   "display_name": "Python 3",
   "language": "python",
   "name": "python3"
  },
  "language_info": {
   "codemirror_mode": {
    "name": "ipython",
    "version": 3
   },
   "file_extension": ".py",
   "mimetype": "text/x-python",
   "name": "python",
   "nbconvert_exporter": "python",
   "pygments_lexer": "ipython3",
   "version": "3.6.5"
  }
 },
 "nbformat": 4,
 "nbformat_minor": 2
}
