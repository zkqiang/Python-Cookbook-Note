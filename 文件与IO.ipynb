{
 "cells": [
  {
   "cell_type": "markdown",
   "metadata": {},
   "source": [
    "# 文件与IO"
   ]
  },
  {
   "cell_type": "markdown",
   "metadata": {},
   "source": [
    "#### 字符串作为文件对象进行I/O操作"
   ]
  },
  {
   "cell_type": "code",
   "execution_count": 1,
   "metadata": {},
   "outputs": [
    {
     "data": {
      "text/plain": [
       "'Hello World\\nThis is a test\\n'"
      ]
     },
     "execution_count": 1,
     "metadata": {},
     "output_type": "execute_result"
    }
   ],
   "source": [
    "import io\n",
    "s = io.StringIO()\n",
    "s.write('Hello World\\n')\n",
    "print('This is a test', file=s)\n",
    "s.getvalue()"
   ]
  },
  {
   "cell_type": "code",
   "execution_count": 2,
   "metadata": {},
   "outputs": [
    {
     "data": {
      "text/plain": [
       "'Hell'"
      ]
     },
     "execution_count": 2,
     "metadata": {},
     "output_type": "execute_result"
    }
   ],
   "source": [
    "s = io.StringIO('Hello\\nWorld\\n')\n",
    "s.read(4)"
   ]
  },
  {
   "cell_type": "code",
   "execution_count": 3,
   "metadata": {},
   "outputs": [
    {
     "data": {
      "text/plain": [
       "'o\\nWorld\\n'"
      ]
     },
     "execution_count": 3,
     "metadata": {},
     "output_type": "execute_result"
    }
   ],
   "source": [
    "s.read()"
   ]
  },
  {
   "cell_type": "code",
   "execution_count": 4,
   "metadata": {},
   "outputs": [
    {
     "data": {
      "text/plain": [
       "b'binary data'"
      ]
     },
     "execution_count": 4,
     "metadata": {},
     "output_type": "execute_result"
    }
   ],
   "source": [
    "s = io.BytesIO()\n",
    "s.write(b'binary data')\n",
    "s.getvalue()"
   ]
  },
  {
   "cell_type": "markdown",
   "metadata": {},
   "source": [
    "#### 固定大小记录的文件迭代"
   ]
  },
  {
   "cell_type": "code",
   "execution_count": 5,
   "metadata": {},
   "outputs": [
    {
     "name": "stdout",
     "output_type": "stream",
     "text": [
      "b'{\\n \"cells\": [\\n  {\\n  '\n",
      "b' \"cell_type\": \"markd'\n",
      "b'own\",\\n   \"metadata\":'\n",
      "b' {},\\n   \"source\": [\\n'\n",
      "b'    \"# \\xe6\\x96\\x87\\xe4\\xbb\\xb6\\xe4\\xb8\\x8eIO\"\\n'\n",
      "b'   ]\\n  },\\n  {\\n   \"ce'\n"
     ]
    }
   ],
   "source": [
    "# 用固定长度记录或者数据块的序列，取代一行一行的迭代\n",
    "from functools import partial\n",
    "\n",
    "RECORD_SIZE = 20\n",
    "\n",
    "with open('文件与IO.ipynb', 'rb') as f:\n",
    "    records = iter(partial(f.read, RECORD_SIZE), b'')\n",
    "    counter = 0\n",
    "    for r in records:\n",
    "        print(r)\n",
    "        counter += 1\n",
    "        if counter > 5:\n",
    "            break"
   ]
  },
  {
   "cell_type": "markdown",
   "metadata": {},
   "source": [
    "#### 读取二进制数据到可变缓冲区中"
   ]
  },
  {
   "cell_type": "code",
   "execution_count": 6,
   "metadata": {},
   "outputs": [],
   "source": [
    "import os.path\n",
    "\n",
    "def read_into_buffer(filename):\n",
    "    buf = bytearray(os.path.getsize(filename))\n",
    "    with open(filename, 'rb') as f:\n",
    "        f.readinto(buf)\n",
    "    return buf"
   ]
  },
  {
   "cell_type": "code",
   "execution_count": 7,
   "metadata": {},
   "outputs": [
    {
     "data": {
      "text/plain": [
       "bytearray(b'{\\n \"cells\": [\\n  {\\n   \"cell_type\": \"markdown\",\\n   \"')"
      ]
     },
     "execution_count": 7,
     "metadata": {},
     "output_type": "execute_result"
    }
   ],
   "source": [
    "read_into_buffer('文件与IO.ipynb')[:50]"
   ]
  },
  {
   "cell_type": "markdown",
   "metadata": {},
   "source": [
    "#### 内存映射文件"
   ]
  },
  {
   "cell_type": "code",
   "execution_count": 8,
   "metadata": {},
   "outputs": [],
   "source": [
    "\"\"\"\n",
    "mmap 模块可以将文件映射到内存地址空间，\n",
    "并且不是将全文件加载到内存，而是只加载访问部分，\n",
    "这样既不占用过多内存，还拥有内存级别的IO速度，\n",
    "适合处理超大文件的读写\n",
    "\"\"\"\n",
    "\n",
    "import os\n",
    "import mmap\n",
    "\n",
    "def memory_map(filename, access=mmap.ACCESS_WRITE):\n",
    "    size = os.path.getsize(filename)\n",
    "    fd = os.open(filename, os.O_RDWR)\n",
    "    return mmap.mmap(fd, size, access=access)"
   ]
  },
  {
   "cell_type": "code",
   "execution_count": 9,
   "metadata": {},
   "outputs": [],
   "source": [
    "m = memory_map('文件与IO.ipynb')"
   ]
  },
  {
   "cell_type": "code",
   "execution_count": 10,
   "metadata": {},
   "outputs": [
    {
     "data": {
      "text/plain": [
       "10836"
      ]
     },
     "execution_count": 10,
     "metadata": {},
     "output_type": "execute_result"
    }
   ],
   "source": [
    "len(m)"
   ]
  },
  {
   "cell_type": "code",
   "execution_count": 11,
   "metadata": {},
   "outputs": [
    {
     "data": {
      "text/plain": [
       "b'{\\n \"cells\": [\\n  {\\n   \"cell_type\": \"markdown\",\\n   \"'"
      ]
     },
     "execution_count": 11,
     "metadata": {},
     "output_type": "execute_result"
    }
   ],
   "source": [
    "m[0:50]"
   ]
  },
  {
   "cell_type": "markdown",
   "metadata": {},
   "source": [
    "#### 获取文件夹中的文件列表"
   ]
  },
  {
   "cell_type": "code",
   "execution_count": 12,
   "metadata": {},
   "outputs": [],
   "source": [
    "import os\n",
    "# 返回目录下所有文件的列表\n",
    "names = os.listdir('./')\n",
    "\n",
    "# glob 返回匹配文件的列表\n",
    "import glob\n",
    "files1 = glob.glob('文件与IO.*')\n",
    "\n",
    "# fnmatch 返回是否存在匹配的布尔值\n",
    "from fnmatch import fnmatch\n",
    "files2 = [name for name in names \n",
    "          if fnmatch(name, '*.ipynb')]"
   ]
  },
  {
   "cell_type": "code",
   "execution_count": 13,
   "metadata": {},
   "outputs": [
    {
     "data": {
      "text/plain": [
       "(['文件与IO.ipynb'],\n",
       " ['数字日期和时间.ipynb',\n",
       "  '文件与IO.ipynb',\n",
       "  '迭代器与生成器.ipynb',\n",
       "  '数据结构和算法.ipynb',\n",
       "  '字符串和文本.ipynb'])"
      ]
     },
     "execution_count": 13,
     "metadata": {},
     "output_type": "execute_result"
    }
   ],
   "source": [
    "files1, files2"
   ]
  },
  {
   "cell_type": "markdown",
   "metadata": {},
   "source": [
    "#### 打印不合法的文件名"
   ]
  },
  {
   "cell_type": "code",
   "execution_count": 14,
   "metadata": {},
   "outputs": [],
   "source": [
    "\"\"\"\n",
    "surrogateescape:\n",
    "是Python在绝大部分面向OS API中所使用的错误处理器，\n",
    "它能以一种优雅的方式处理由操作系统提供的数据的编码问题。\n",
    "在解码出错时会将出错字节存储到一个很少被使用到的Unicode编码范围内，\n",
    "在编码时将那些隐藏值又还原回原先解码失败的字节序列。\n",
    "它不仅对于OS API非常有用，也能很容易的处理其他情况下的编码错误。\n",
    "\"\"\"\n",
    "\n",
    "def bad_filename(filename):\n",
    "    temp = filename.encode(sys.getfilesystemencoding(), \n",
    "                           errors='surrogateescape')\n",
    "    return temp.decode('latin-1')"
   ]
  },
  {
   "cell_type": "code",
   "execution_count": 15,
   "metadata": {},
   "outputs": [
    {
     "name": "stdout",
     "output_type": "stream",
     "text": [
      "数字日期和时间.ipynb\n",
      "文件与IO.ipynb\n",
      ".gitignore\n",
      "迭代器与生成器.ipynb\n",
      "数据结构和算法.ipynb\n",
      ".ipynb_checkpoints\n",
      "字符串和文本.ipynb\n",
      ".git\n"
     ]
    }
   ],
   "source": [
    "files = os.listdir('.')\n",
    "\n",
    "for name in files:\n",
    "    try:\n",
    "        print(name)\n",
    "    except UnicodeEncodeError:\n",
    "        print(bad_filename(name))"
   ]
  },
  {
   "cell_type": "markdown",
   "metadata": {},
   "source": [
    "#### 创建临时文件和文件夹"
   ]
  },
  {
   "cell_type": "code",
   "execution_count": 16,
   "metadata": {},
   "outputs": [
    {
     "name": "stdout",
     "output_type": "stream",
     "text": [
      "Hello World\n",
      "Testing\n",
      "\n"
     ]
    }
   ],
   "source": [
    "# 创建临时文件\n",
    "from tempfile import TemporaryFile\n",
    "\n",
    "# 该文件没有文件名和目录，关闭后自动删除\n",
    "with TemporaryFile('w+t') as f:\n",
    "    f.write('Hello World\\n')\n",
    "    f.write('Testing\\n')\n",
    "    f.seek(0)\n",
    "    data = f.read()\n",
    "    print(data)"
   ]
  },
  {
   "cell_type": "code",
   "execution_count": 17,
   "metadata": {},
   "outputs": [
    {
     "name": "stdout",
     "output_type": "stream",
     "text": [
      "filename is: /var/folders/jy/8jjh9yq90rbgvsw6__r5sbnw0000gn/T/tmp93dkmf8p\n"
     ]
    }
   ],
   "source": [
    "from tempfile import NamedTemporaryFile\n",
    "\n",
    "# 使用这个函数代替，并使用 delete=False 参数，可以避免被匿名和删除\n",
    "with NamedTemporaryFile('w+t', delete=False) as f:\n",
    "    print('filename is:', f.name)"
   ]
  },
  {
   "cell_type": "code",
   "execution_count": 18,
   "metadata": {},
   "outputs": [
    {
     "name": "stdout",
     "output_type": "stream",
     "text": [
      "dirname is: /var/folders/jy/8jjh9yq90rbgvsw6__r5sbnw0000gn/T/tmp52asc5i0\n"
     ]
    }
   ],
   "source": [
    "# 创建临时文件夹\n",
    "from tempfile import TemporaryDirectory\n",
    "\n",
    "with TemporaryDirectory() as dirname:\n",
    "    print('dirname is:', dirname)"
   ]
  },
  {
   "cell_type": "code",
   "execution_count": 19,
   "metadata": {},
   "outputs": [
    {
     "data": {
      "text/plain": [
       "'/var/folders/jy/8jjh9yq90rbgvsw6__r5sbnw0000gn/T'"
      ]
     },
     "execution_count": 19,
     "metadata": {},
     "output_type": "execute_result"
    }
   ],
   "source": [
    "# 临时文件在系统默认的位置被创建，该方法可以获得位置\n",
    "import tempfile\n",
    "tempfile.gettempdir()"
   ]
  }
 ],
 "metadata": {
  "kernelspec": {
   "display_name": "Python 3",
   "language": "python",
   "name": "python3"
  },
  "language_info": {
   "codemirror_mode": {
    "name": "ipython",
    "version": 3
   },
   "file_extension": ".py",
   "mimetype": "text/x-python",
   "name": "python",
   "nbconvert_exporter": "python",
   "pygments_lexer": "ipython3",
   "version": "3.6.5"
  }
 },
 "nbformat": 4,
 "nbformat_minor": 2
}
