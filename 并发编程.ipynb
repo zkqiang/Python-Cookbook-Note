{
 "cells": [
  {
   "cell_type": "markdown",
   "metadata": {},
   "source": [
    "# 并发编程\n",
    "---"
   ]
  },
  {
   "cell_type": "markdown",
   "metadata": {},
   "source": [
    "### 信号控制线程启动"
   ]
  },
  {
   "cell_type": "markdown",
   "metadata": {},
   "source": [
    "假如程序中的其他线程需要通过判断某个线程的状态来确定自己下一步的操作  \n",
    "可以使用 `threading` 库中的 `Event` 对象来作为全局信号标志，调用 `wait` 方法使线程阻塞，当调用 `set` 方法后，所有阻塞线程会收到信号，才会继续执行"
   ]
  },
  {
   "cell_type": "code",
   "execution_count": 1,
   "metadata": {},
   "outputs": [
    {
     "name": "stdout",
     "output_type": "stream",
     "text": [
      "Launching countdown\n",
      "countdown starting\n",
      "countdown is running\n",
      "T-minus 5\n",
      "T-minus 4\n",
      "T-minus 3\n",
      "T-minus 2\n",
      "T-minus 1\n"
     ]
    }
   ],
   "source": [
    "from threading import Thread, Event\n",
    "import time\n",
    "\n",
    "def countdown(n, started_evt):\n",
    "    print('countdown starting')\n",
    "    started_evt.set()\n",
    "    while n > 0:\n",
    "        time.sleep(3)\n",
    "        print('T-minus', n)\n",
    "        n -= 1\n",
    "\n",
    "started_evt = Event()\n",
    "\n",
    "print('Launching countdown')\n",
    "t = Thread(target=countdown, args=(5,started_evt))\n",
    "t.start()\n",
    "\n",
    "# 这里会等待 Event 对象被执行 set\n",
    "started_evt.wait()\n",
    "print('countdown is running')\n",
    "t.join()"
   ]
  },
  {
   "cell_type": "markdown",
   "metadata": {},
   "source": [
    "---\n",
    "`Event` 对象最好不要复用，当 `set` 被调用后，应该重新创建新对象，因为虽然可以使用 `clear` 方法重置，但无法保证重置时是在线程再次等待之前。  \n",
    "如果需要复用，可以通过 `Condition` 对象来代替"
   ]
  },
  {
   "cell_type": "code",
   "execution_count": 2,
   "metadata": {},
   "outputs": [
    {
     "name": "stdout",
     "output_type": "stream",
     "text": [
      "T-minus 5\n",
      "Counting 0\n",
      "T-minus 4Counting 1\n",
      "\n",
      "Counting 2\n",
      "T-minus 3\n",
      "T-minus 2\n",
      "T-minus 1\n"
     ]
    }
   ],
   "source": [
    "import threading\n",
    "import time\n",
    "\n",
    "\n",
    "class PeriodicTimer:\n",
    "    \"\"\" 周期定时器 \"\"\"\n",
    "\n",
    "    def __init__(self, interval):\n",
    "        self._interval = interval\n",
    "        self._flag = 0\n",
    "        self._cv = threading.Condition()\n",
    "\n",
    "    def start(self):\n",
    "        t = threading.Thread(target=self.run)\n",
    "        t.daemon = True\n",
    "        t.start()\n",
    "\n",
    "    def run(self):\n",
    "        \"\"\"\n",
    "        启动定时器，并每隔一段时间发出通知\n",
    "        \"\"\"\n",
    "        while True:\n",
    "            time.sleep(self._interval)\n",
    "            with self._cv:\n",
    "                # 异或，相异为1，相同为0，达到1与0来回切换的效果\n",
    "                self._flag ^= 1\n",
    "                self._cv.notify_all()\n",
    "\n",
    "    def wait_for_tick(self):\n",
    "        \"\"\"\n",
    "        等待下次通知\n",
    "        \"\"\"\n",
    "        with self._cv:\n",
    "            # 当 flag 发生切换，则停止阻塞\n",
    "            last_flag = self._flag\n",
    "            while last_flag == self._flag:\n",
    "                self._cv.wait()\n",
    "\n",
    "\n",
    "ptimer = PeriodicTimer(5)\n",
    "ptimer.start()\n",
    "\n",
    "\n",
    "def countdown(nticks):\n",
    "    while nticks > 0:\n",
    "        ptimer.wait_for_tick()\n",
    "        print('T-minus %d' % nticks)\n",
    "        nticks -= 1\n",
    "\n",
    "def countup(last):\n",
    "    n = 0\n",
    "    while n < last:\n",
    "        ptimer.wait_for_tick()\n",
    "        print('Counting %d' % n)\n",
    "        n += 1\n",
    "\n",
    "t1 = threading.Thread(target=countdown, args=(5,))\n",
    "t2 = threading.Thread(target=countup, args=(3,))\n",
    "t1.start()\n",
    "t2.start()\n",
    "t1.join()\n",
    "t2.join()"
   ]
  },
  {
   "cell_type": "markdown",
   "metadata": {},
   "source": [
    "---\n",
    "`Semaphore` 对象和 `BoundedSemaphore` 对象可以通知单一线程（动态控制线程数）  \n",
    "当调用 `acquire` 方法时，线程尝试获取一个信号，如果没有接收到一直阻塞  \n",
    "当调用 `release` 方法会释放一个信号，这时只有最早阻塞的线程会收到信号并解除阻塞  \n",
    "这两个对象的区别是，`Semaphore` 对象如果调用 `release` 方法时没有线程在 `acquire` 状态，会将信号存储用于下一个 `acquire` ，而 `BoundedSemaphore` 此时会报错"
   ]
  },
  {
   "cell_type": "code",
   "execution_count": 3,
   "metadata": {},
   "outputs": [],
   "source": [
    "def worker(n, sema):\n",
    "    sema.acquire()\n",
    "    print('Working', n)\n",
    "\n",
    "\n",
    "# 参数是初始的信号数\n",
    "sema = threading.Semaphore(0)\n",
    "nworkers = 10\n",
    "for n in range(nworkers):\n",
    "    t = threading.Thread(target=worker, args=(n, sema,))\n",
    "    t.start()"
   ]
  },
  {
   "cell_type": "code",
   "execution_count": 4,
   "metadata": {},
   "outputs": [
    {
     "name": "stdout",
     "output_type": "stream",
     "text": [
      "Working 0\n"
     ]
    }
   ],
   "source": [
    "sema.release()"
   ]
  },
  {
   "cell_type": "code",
   "execution_count": 5,
   "metadata": {},
   "outputs": [
    {
     "name": "stdout",
     "output_type": "stream",
     "text": [
      "Working 1\n"
     ]
    }
   ],
   "source": [
    "sema.release()"
   ]
  },
  {
   "cell_type": "code",
   "execution_count": 6,
   "metadata": {},
   "outputs": [
    {
     "name": "stdout",
     "output_type": "stream",
     "text": [
      "Working 2\n"
     ]
    }
   ],
   "source": [
    "sema.release()"
   ]
  },
  {
   "cell_type": "markdown",
   "metadata": {},
   "source": [
    "---"
   ]
  },
  {
   "cell_type": "markdown",
   "metadata": {},
   "source": [
    "### 线程间通信"
   ]
  },
  {
   "cell_type": "code",
   "execution_count": 7,
   "metadata": {},
   "outputs": [
    {
     "name": "stdout",
     "output_type": "stream",
     "text": [
      "D C B A "
     ]
    }
   ],
   "source": [
    "import queue\n",
    "from threading import Thread, Event\n",
    "\n",
    "def producer(letter_list, out_q):\n",
    "    letters = letter_list[:]\n",
    "    while True:\n",
    "        if not letters:\n",
    "            break\n",
    "        letter = letters.pop()\n",
    "        evt = Event()\n",
    "        out_q.put((letter, evt))\n",
    "        # 等待消费者处理完\n",
    "        evt.wait()\n",
    "        # 随后可以有一些其他操作再循环下次\n",
    "        print(' ', end='')\n",
    "\n",
    "def consumer(in_q):\n",
    "    while True:\n",
    "        try:\n",
    "            letter, evt = in_q.get(timeout=3)\n",
    "        except queue.Empty:\n",
    "            break\n",
    "        print(letter.upper(), end='')\n",
    "        # 通知已经完成消费\n",
    "        evt.set()\n",
    "\n",
    "q = queue.Queue()\n",
    "letters = ['a', 'b', 'c', 'd']\n",
    "t1 = Thread(target=consumer, args=(q,))\n",
    "t2 = Thread(target=producer, args=(letters, q))\n",
    "t1.start()\n",
    "t2.start()"
   ]
  },
  {
   "cell_type": "markdown",
   "metadata": {},
   "source": [
    "### 多线程加锁"
   ]
  },
  {
   "cell_type": "code",
   "execution_count": 8,
   "metadata": {},
   "outputs": [],
   "source": [
    "import threading\n",
    "\n",
    "\n",
    "class SharedCounter:\n",
    "\n",
    "    def __init__(self, initial_value = 0):\n",
    "        self._value = initial_value\n",
    "        self._value_lock = threading.Lock()\n",
    "\n",
    "    def incr(self,delta=1):\n",
    "        with self._value_lock:\n",
    "             self._value += delta\n",
    "\n",
    "    def decr(self,delta=1):\n",
    "        with self._value_lock:\n",
    "             self._value -= delta"
   ]
  },
  {
   "cell_type": "markdown",
   "metadata": {},
   "source": [
    "`Lock` 对象的锁机制，设定为同一线程只允许获取一个锁，如果需要多次获取，可以使用 `RLock` 对象"
   ]
  },
  {
   "cell_type": "code",
   "execution_count": 9,
   "metadata": {},
   "outputs": [],
   "source": [
    "import threading\n",
    "\n",
    "\n",
    "class SharedCounter:\n",
    "    # 类级锁，这样无论该类有多少个实例都只用一个锁\n",
    "    _lock = threading.RLock()\n",
    "\n",
    "    def __init__(self, initial_value = 0):\n",
    "        self._value = initial_value\n",
    "\n",
    "    def incr(self, delta=1):\n",
    "        with SharedCounter._lock:\n",
    "             self._value += delta\n",
    "\n",
    "    def decr(self, delta=1):\n",
    "        # 多重获取锁\n",
    "        with SharedCounter._lock:\n",
    "             self.incr(-delta)"
   ]
  },
  {
   "cell_type": "markdown",
   "metadata": {},
   "source": [
    "---"
   ]
  },
  {
   "cell_type": "markdown",
   "metadata": {},
   "source": [
    "### 防止死锁的加锁机制"
   ]
  },
  {
   "cell_type": "markdown",
   "metadata": {},
   "source": [
    "在多线程程序中，死锁问题很大一部分是由于线程同时获取多个锁造成的。  \n",
    "举个例子：一个线程获取了第一个锁，然后在获取第二个锁的时候发生阻塞，那么这个线程就可能阻塞其他线程的执行，从而导致整个程序假死。  \n",
    "解决死锁问题的一种方案是为程序中的每一个锁分配一个唯一的ID，然后只允许按照升序规则来使用多个锁，这个规则使用上下文管理器是非常容易实现的。"
   ]
  },
  {
   "cell_type": "code",
   "execution_count": 10,
   "metadata": {},
   "outputs": [],
   "source": [
    "import threading\n",
    "from contextlib import contextmanager\n",
    "\n",
    "_local = threading.local()\n",
    "\n",
    "@contextmanager\n",
    "def acquire(*locks):\n",
    "    locks = sorted(locks, key=lambda x: id(x))\n",
    "\n",
    "    acquired = getattr(_local, 'acquired', [])\n",
    "    if acquired and max(id(lock) for lock in acquired) >= id(locks[0]):\n",
    "        raise RuntimeError('Lock Order Violation')\n",
    "\n",
    "    acquired.extend(locks)\n",
    "    _local.acquired = acquired\n",
    "\n",
    "    try:\n",
    "        for lock in locks:\n",
    "            lock.acquire()\n",
    "        yield\n",
    "    finally:\n",
    "        for lock in reversed(locks):\n",
    "            lock.release()\n",
    "        del acquired[-len(locks):]"
   ]
  },
  {
   "cell_type": "code",
   "execution_count": 11,
   "metadata": {},
   "outputs": [
    {
     "name": "stdout",
     "output_type": "stream",
     "text": [
      "Thread-1\n",
      "Thread-1\n",
      "Thread-1\n",
      "Thread-1\n",
      "Thread-1\n",
      "Thread-1\n",
      "Thread-1\n",
      "Thread-1\n",
      "Thread-1\n",
      "Thread-1\n",
      "Thread-2\n",
      "Thread-2\n",
      "Thread-2\n",
      "Thread-2\n",
      "Thread-2\n",
      "Thread-2\n",
      "Thread-2\n",
      "Thread-2\n",
      "Thread-2\n",
      "Thread-2\n"
     ]
    }
   ],
   "source": [
    "import threading\n",
    "\n",
    "x_lock = threading.Lock()\n",
    "y_lock = threading.Lock()\n",
    "\n",
    "def thread_1():\n",
    "    for _ in range(10):\n",
    "        with acquire(x_lock, y_lock):\n",
    "            print('Thread-1')\n",
    "\n",
    "def thread_2():\n",
    "    for _ in range(10):\n",
    "        with acquire(y_lock, x_lock):\n",
    "            print('Thread-2')\n",
    "\n",
    "t1 = threading.Thread(target=thread_1)\n",
    "t1.daemon = True\n",
    "\n",
    "t2 = threading.Thread(target=thread_2)\n",
    "t2.daemon = True\n",
    "\n",
    "t1.start()\n",
    "t2.start()"
   ]
  },
  {
   "cell_type": "markdown",
   "metadata": {},
   "source": [
    "---"
   ]
  },
  {
   "cell_type": "markdown",
   "metadata": {},
   "source": [
    "### 保存线程的状态信息"
   ]
  },
  {
   "cell_type": "markdown",
   "metadata": {},
   "source": [
    "假设需要实现一个支持多线程的惰性连接器，使用 `thread.local()` 可以让 LazyConnection 类支持一个线程一个连接，而不是所有的进程都共用一个连接。  \n",
    "其原理是，每个 `threading.local()` 实例为每个线程维护着一个单独的实例字典。所有普通实例操作比如获取、修改和删除值仅仅操作这个字典。 每个线程使用一个独立的字典就可以保证数据的隔离了。"
   ]
  },
  {
   "cell_type": "code",
   "execution_count": 12,
   "metadata": {},
   "outputs": [],
   "source": [
    "from socket import socket, AF_INET, SOCK_STREAM\n",
    "import threading\n",
    "\n",
    "\n",
    "class LazyConnection:\n",
    "\n",
    "    def __init__(self, address, family=AF_INET, type=SOCK_STREAM):\n",
    "        self.address = address\n",
    "        self.family = AF_INET\n",
    "        self.type = SOCK_STREAM\n",
    "        self.local = threading.local()\n",
    "\n",
    "    def __enter__(self):\n",
    "        \"\"\" 每个线程会创建自己专属的 socket 连接，线程之间互不影响 \"\"\"\n",
    "        if hasattr(self.local, 'sock'):\n",
    "            raise RuntimeError('Already connected')\n",
    "        self.local.sock = socket(self.family, self.type)\n",
    "        self.local.sock.connect(self.address)\n",
    "        return self.local.sock\n",
    "\n",
    "    def __exit__(self, exc_ty, exc_val, tb):\n",
    "        self.local.sock.close()\n",
    "        del self.local.sock"
   ]
  },
  {
   "cell_type": "code",
   "execution_count": 13,
   "metadata": {},
   "outputs": [],
   "source": [
    "from functools import partial\n",
    "\n",
    "def test(conn):\n",
    "    with conn as s:\n",
    "        s.send(b'GET /index.html HTTP/1.0\\r\\n')\n",
    "        s.send(b'Host: www.python.org\\r\\n')\n",
    "        s.send(b'\\r\\n')\n",
    "        resp = b''.join(iter(partial(s.recv, 8192), b''))\n",
    "\n",
    "    print('Got {} bytes'.format(len(resp)))"
   ]
  },
  {
   "cell_type": "code",
   "execution_count": 14,
   "metadata": {},
   "outputs": [
    {
     "name": "stdout",
     "output_type": "stream",
     "text": [
      "Got 392 bytes\n",
      "Got 392 bytes\n"
     ]
    }
   ],
   "source": [
    "conn = LazyConnection(('www.python.org', 80))\n",
    "\n",
    "t1 = threading.Thread(target=test, args=(conn,))\n",
    "t2 = threading.Thread(target=test, args=(conn,))\n",
    "t1.start()\n",
    "t2.start()\n",
    "t1.join()\n",
    "t2.join()"
   ]
  },
  {
   "cell_type": "markdown",
   "metadata": {},
   "source": [
    "---"
   ]
  },
  {
   "cell_type": "markdown",
   "metadata": {},
   "source": [
    "### 创建一个线程池"
   ]
  },
  {
   "cell_type": "code",
   "execution_count": 15,
   "metadata": {},
   "outputs": [],
   "source": [
    "from socket import AF_INET, SOCK_STREAM, socket\n",
    "from concurrent.futures import ThreadPoolExecutor\n",
    "from queue import Queue\n",
    "\n",
    "def echo_client(q):\n",
    "    sock, client_addr = q.get()\n",
    "    print('Got connection from', client_addr)\n",
    "    while True:\n",
    "        msg = sock.recv(65536)\n",
    "        if not msg:\n",
    "            break\n",
    "        sock.sendall(msg)\n",
    "    print('Client closed connection')\n",
    "    sock.close()\n",
    "\n",
    "def echo_server(addr, nworkers):\n",
    "    q = Queue()\n",
    "    for n in range(nworkers):\n",
    "        t = Thread(target=echo_client, args=(q,))\n",
    "        t.daemon = True\n",
    "        t.start()\n",
    "\n",
    "    sock = socket(AF_INET, SOCK_STREAM)\n",
    "    sock.bind(addr)\n",
    "    sock.listen(5)\n",
    "    while True:\n",
    "        client_sock, client_addr = sock.accept()\n",
    "        q.put((client_sock, client_addr))"
   ]
  },
  {
   "cell_type": "code",
   "execution_count": 16,
   "metadata": {},
   "outputs": [],
   "source": [
    "from threading import Thread\n",
    "\n",
    "# 应注意限制最大线程数\n",
    "t = Thread(target=echo_server, \n",
    "           args=(('', 15000), 128))\n",
    "t.daemon = True\n",
    "t.start()"
   ]
  },
  {
   "cell_type": "code",
   "execution_count": 17,
   "metadata": {},
   "outputs": [],
   "source": [
    "from concurrent.futures import ThreadPoolExecutor\n",
    "import urllib.request\n",
    "\n",
    "def fetch_url(url):\n",
    "    u = urllib.request.urlopen(url)\n",
    "    data = u.read()\n",
    "    return data\n",
    "\n",
    "pool = ThreadPoolExecutor(10)\n",
    "\n",
    "a = pool.submit(fetch_url, 'http://www.python.org')\n",
    "b = pool.submit(fetch_url, 'http://www.pypy.org')\n",
    "\n",
    "# result 方法会阻塞进程直到对应的函数执行完成并返回一个结果\n",
    "x = a.result()\n",
    "y = b.result()"
   ]
  },
  {
   "cell_type": "code",
   "execution_count": 18,
   "metadata": {},
   "outputs": [
    {
     "data": {
      "text/plain": [
       "b'<!doctype html>\\n<!--[if lt IE 7]>   <html class=\"no-js ie6 lt-ie7 lt-ie8 lt-ie9\">   <![endif]-->\\n<!--[if IE 7]>      <html class=\"no-js ie7 lt-ie8 lt-ie9\">          <![endif]-->\\n<!--[if IE 8]>      <html class=\"no-js ie8 lt-ie9\">                 <![endif]-->\\n<!--[if gt IE 8]><!--><html class=\"no-js\" lang=\"en\" dir=\"ltr\">  <!--<![endif]-->\\n\\n<head>\\n    <meta charset=\"utf-8\">\\n    <meta http-equiv=\"X-UA-Compatible\" content=\"IE=edge\">\\n\\n    <link rel=\"prefetch\" href=\"//ajax.googleapis.com/ajax/libs/jquery/1.8.2/jquery.min.js\">\\n\\n    <meta name=\"application-name\" content=\"Python.org\">\\n    <meta name=\"msapplication-tooltip\" content=\"The official home of the Python Programming Language\">\\n    <meta name=\"apple-mobile-web-app-title\" content=\"Python.org\">\\n    <meta name=\"apple-mobile-web-app-capable\" content=\"yes\">\\n    <meta name=\"apple-mobile-web-app-status-bar-style\" content=\"black\">\\n\\n    <meta name=\"viewport\" content=\"width=device-width, initial-scale=1.0\">\\n    <meta name=\"HandheldFriendly\" conte'"
      ]
     },
     "execution_count": 18,
     "metadata": {},
     "output_type": "execute_result"
    }
   ],
   "source": [
    "x[:1000]"
   ]
  },
  {
   "cell_type": "code",
   "execution_count": 19,
   "metadata": {},
   "outputs": [
    {
     "data": {
      "text/plain": [
       "b'<!DOCTYPE html>\\n<html>\\n<head>\\n\\t<title>PyPy - Welcome to PyPy</title>\\n\\t<meta http-equiv=\"content-language\" content=\"en\" />\\n\\t<meta http-equiv=\"content-type\" content=\"text/html; charset=utf-8\" />\\n\\t<meta name=\"author\" content=\"PyPy Team\" />\\n\\t<meta name=\"description\" content=\"PyPy\" />\\n\\t<meta name=\"copyright\" content=\"MIT\" />\\n\\t<meta name=\"document-rating\" content=\"general\" />\\n\\t<link rel=\"stylesheet\" type=\"text/css\" media=\"screen\" title=\"default\" href=\"css/site.css\" />\\n\\t<link rel=\"alternate\" type=\"application/rss+xml\" title=\"RSS Feed for PyPy\" href=\"http://feeds.feedburner.com/PyPyStatusBlog\" />\\n  <link rel=\"stylesheet\" type=\"text/css\" href=\"css/jquery-ui-1.8.14.custom.css\" />\\n\\t<script type=\"text/javascript\" src=\"https://use.typekit.com/hdt8sni.js\"></script>\\n\\t<script type=\"text/javascript\">try{Typekit.load();}catch(e){}</script>\\n\\t<script type=\"text/javascript\" src=\"https://ajax.googleapis.com/ajax/libs/jquery/1.4.2/jquery.min.js\"></script>\\n  <script type=\"text/javascript\" src=\"js/jquery-ui-1.'"
      ]
     },
     "execution_count": 19,
     "metadata": {},
     "output_type": "execute_result"
    }
   ],
   "source": [
    "y[:1000]"
   ]
  },
  {
   "cell_type": "markdown",
   "metadata": {},
   "source": [
    "---"
   ]
  },
  {
   "cell_type": "markdown",
   "metadata": {},
   "source": [
    "### 简单的并行编程"
   ]
  },
  {
   "cell_type": "code",
   "execution_count": 20,
   "metadata": {},
   "outputs": [],
   "source": [
    "def fib(n):\n",
    "    if n < 2:\n",
    "        return 1\n",
    "    else:\n",
    "        return fib(n - 1) + fib(n - 2)"
   ]
  },
  {
   "cell_type": "markdown",
   "metadata": {},
   "source": [
    "方法一，使用 `pool.map` 返回生成器对象"
   ]
  },
  {
   "cell_type": "code",
   "execution_count": 21,
   "metadata": {},
   "outputs": [
    {
     "name": "stdout",
     "output_type": "stream",
     "text": [
      "[1346269, 1346269, 1346269, 1346269]\n"
     ]
    }
   ],
   "source": [
    "from concurrent.futures import ProcessPoolExecutor\n",
    "\n",
    "# 可以传入整型限制进程数，默认是系统可用的CPU核心数\n",
    "with ProcessPoolExecutor() as pool:\n",
    "    results = pool.map(fib, [30, 30, 30, 30])\n",
    "    print(list(results))"
   ]
  },
  {
   "cell_type": "markdown",
   "metadata": {},
   "source": [
    "方法二，使用 `pool.submit` 返回 `Future` 实例，然后调用 `result` 方法进行阻塞并等待结果返回"
   ]
  },
  {
   "cell_type": "code",
   "execution_count": 22,
   "metadata": {
    "scrolled": false
   },
   "outputs": [
    {
     "name": "stdout",
     "output_type": "stream",
     "text": [
      "1346269\n"
     ]
    }
   ],
   "source": [
    "with ProcessPoolExecutor() as pool:\n",
    "    future_result = pool.submit(fib, 30)\n",
    "    r = future_result.result()\n",
    "    print(r)"
   ]
  },
  {
   "cell_type": "markdown",
   "metadata": {},
   "source": [
    "方法三，同样使用 `pool.submit` ，调用 `add_done_callback` 方法可以进行非阻塞的回调"
   ]
  },
  {
   "cell_type": "code",
   "execution_count": 23,
   "metadata": {},
   "outputs": [
    {
     "name": "stdout",
     "output_type": "stream",
     "text": [
      "1346269\n"
     ]
    }
   ],
   "source": [
    "def when_done(r):\n",
    "    print(r.result())\n",
    "\n",
    "with ProcessPoolExecutor() as pool:\n",
    "     future_result = pool.submit(fib, 30)\n",
    "     future_result.add_done_callback(when_done)"
   ]
  },
  {
   "cell_type": "markdown",
   "metadata": {},
   "source": [
    "---"
   ]
  },
  {
   "cell_type": "markdown",
   "metadata": {},
   "source": [
    "### 定义 Actor 模式任务"
   ]
  },
  {
   "cell_type": "code",
   "execution_count": 24,
   "metadata": {},
   "outputs": [
    {
     "name": "stdout",
     "output_type": "stream",
     "text": [
      "Got: Hello\n",
      "Got: World\n"
     ]
    }
   ],
   "source": [
    "from queue import Queue\n",
    "from threading import Thread, Event\n",
    "\n",
    "\n",
    "class ActorExit(Exception):\n",
    "    pass\n",
    "\n",
    "\n",
    "class Actor:\n",
    "\n",
    "    def __init__(self):\n",
    "        self._mailbox = Queue()\n",
    "\n",
    "    def send(self, msg):\n",
    "        self._mailbox.put(msg)\n",
    "\n",
    "    def recv(self):\n",
    "        msg = self._mailbox.get()\n",
    "        if msg is ActorExit:\n",
    "            raise ActorExit()\n",
    "        return msg\n",
    "\n",
    "    def close(self):\n",
    "        self.send(ActorExit)\n",
    "\n",
    "    def start(self):\n",
    "        self._terminated = Event()\n",
    "        t = Thread(target=self._bootstrap)\n",
    "        t.daemon = True\n",
    "        t.start()\n",
    "\n",
    "    def _bootstrap(self):\n",
    "        try:\n",
    "            self.run()\n",
    "        except ActorExit:\n",
    "            pass\n",
    "        finally:\n",
    "            self._terminated.set()\n",
    "\n",
    "    def join(self):\n",
    "        self._terminated.wait()\n",
    "\n",
    "    def run(self):\n",
    "        while True:\n",
    "            msg = self.recv()\n",
    "\n",
    "\n",
    "class PrintActor(Actor):\n",
    "\n",
    "    def run(self):\n",
    "        while True:\n",
    "            msg = self.recv()\n",
    "            print('Got:', msg)\n",
    "\n",
    "\n",
    "p = PrintActor()\n",
    "p.start()\n",
    "p.send('Hello')\n",
    "p.send('World')\n",
    "p.close()\n",
    "p.join()"
   ]
  },
  {
   "cell_type": "markdown",
   "metadata": {},
   "source": [
    "---"
   ]
  },
  {
   "cell_type": "markdown",
   "metadata": {},
   "source": [
    "### 实现消息发布/订阅模型"
   ]
  },
  {
   "cell_type": "code",
   "execution_count": 25,
   "metadata": {},
   "outputs": [],
   "source": [
    "from contextlib import contextmanager\n",
    "from collections import defaultdict\n",
    "\n",
    "\n",
    "class Exchange:\n",
    "\n",
    "    def __init__(self):\n",
    "        self._subscribers = set()\n",
    "\n",
    "    def attach(self, task):\n",
    "        self._subscribers.add(task)\n",
    "\n",
    "    def detach(self, task):\n",
    "        self._subscribers.remove(task)\n",
    "\n",
    "    @contextmanager\n",
    "    def subscribe(self, *tasks):\n",
    "        for task in tasks:\n",
    "            self.attach(task)\n",
    "        try:\n",
    "            yield\n",
    "        finally:\n",
    "            for task in tasks:\n",
    "                self.detach(task)\n",
    "\n",
    "    def send(self, msg):\n",
    "        for subscriber in self._subscribers:\n",
    "            subscriber.send(msg)\n",
    "\n",
    "\n",
    "_exchanges = defaultdict(Exchange)\n",
    "\n",
    "\n",
    "def get_exchange(name):\n",
    "    return _exchanges[name]"
   ]
  },
  {
   "cell_type": "code",
   "execution_count": 26,
   "metadata": {},
   "outputs": [],
   "source": [
    "class Task:\n",
    "\n",
    "    def __init__(self, name):\n",
    "        self.name = name\n",
    "\n",
    "    def send(self, msg):\n",
    "        print(self.name, 'send:', msg)\n",
    "\n",
    "\n",
    "task_a = Task('task_a')\n",
    "task_b = Task('task_b')"
   ]
  },
  {
   "cell_type": "code",
   "execution_count": 27,
   "metadata": {},
   "outputs": [],
   "source": [
    "exc = get_exchange('name')"
   ]
  },
  {
   "cell_type": "code",
   "execution_count": 28,
   "metadata": {},
   "outputs": [
    {
     "name": "stdout",
     "output_type": "stream",
     "text": [
      "task_a send: msg1\n",
      "task_b send: msg1\n",
      "task_a send: msg2\n",
      "task_b send: msg2\n"
     ]
    }
   ],
   "source": [
    "with exc.subscribe(task_a, task_b):\n",
    "     exc.send('msg1')\n",
    "     exc.send('msg2')"
   ]
  },
  {
   "cell_type": "markdown",
   "metadata": {},
   "source": [
    "---"
   ]
  },
  {
   "cell_type": "markdown",
   "metadata": {},
   "source": [
    "### 使用生成器代替线程"
   ]
  },
  {
   "cell_type": "markdown",
   "metadata": {},
   "source": [
    "使用生成器实现并发，实际就是利用 `yield` 语句让生成器挂起，然后切换任务执行。"
   ]
  },
  {
   "cell_type": "code",
   "execution_count": 29,
   "metadata": {},
   "outputs": [],
   "source": [
    "def countdown(n):\n",
    "    while n > 0:\n",
    "        print('T-minus', n)\n",
    "        yield\n",
    "        n -= 1\n",
    "    print('Blastoff!')\n",
    "\n",
    "def countup(n):\n",
    "    x = 0\n",
    "    while x < n:\n",
    "        print('Counting up', x)\n",
    "        yield\n",
    "        x += 1"
   ]
  },
  {
   "cell_type": "code",
   "execution_count": 30,
   "metadata": {},
   "outputs": [
    {
     "name": "stdout",
     "output_type": "stream",
     "text": [
      "T-minus 10\n",
      "T-minus 5\n",
      "Counting up 0\n",
      "T-minus 9\n",
      "T-minus 4\n",
      "Counting up 1\n",
      "T-minus 8\n",
      "T-minus 3\n",
      "Counting up 2\n",
      "T-minus 7\n",
      "T-minus 2\n",
      "Counting up 3\n",
      "T-minus 6\n",
      "T-minus 1\n",
      "Counting up 4\n",
      "T-minus 5\n",
      "Blastoff!\n",
      "Counting up 5\n",
      "T-minus 4\n",
      "Counting up 6\n",
      "T-minus 3\n",
      "Counting up 7\n",
      "T-minus 2\n",
      "Counting up 8\n",
      "T-minus 1\n",
      "Counting up 9\n",
      "Blastoff!\n",
      "Counting up 10\n",
      "Counting up 11\n",
      "Counting up 12\n",
      "Counting up 13\n",
      "Counting up 14\n"
     ]
    }
   ],
   "source": [
    "from collections import deque\n",
    "\n",
    "\n",
    "class TaskScheduler:\n",
    "\n",
    "    def __init__(self):\n",
    "        self._task_queue = deque()\n",
    "\n",
    "    def new_task(self, task):\n",
    "        self._task_queue.append(task)\n",
    "\n",
    "    def run(self):\n",
    "        while self._task_queue:\n",
    "            task = self._task_queue.popleft()\n",
    "            try:\n",
    "                next(task)\n",
    "                self._task_queue.append(task)\n",
    "            except StopIteration:\n",
    "                pass\n",
    "\n",
    "\n",
    "sched = TaskScheduler()\n",
    "sched.new_task(countdown(10))\n",
    "sched.new_task(countdown(5))\n",
    "sched.new_task(countup(15))\n",
    "sched.run()"
   ]
  },
  {
   "cell_type": "markdown",
   "metadata": {},
   "source": [
    "---"
   ]
  },
  {
   "cell_type": "markdown",
   "metadata": {},
   "source": [
    "### 多个线程队列轮询"
   ]
  },
  {
   "cell_type": "markdown",
   "metadata": {},
   "source": [
    "对于轮询问题，可以创建一对 Socket，然后在其中一个 Socket 上面编写代码来标识存在的数据， 另外一个 Socket 被传给 `select` 函数 或一个类似的轮询获得数据的函数。"
   ]
  },
  {
   "cell_type": "code",
   "execution_count": 31,
   "metadata": {},
   "outputs": [],
   "source": [
    "import queue\n",
    "import socket\n",
    "import os\n",
    "\n",
    "\n",
    "class PollableQueue(queue.Queue):\n",
    "\n",
    "    def __init__(self):\n",
    "        super().__init__()\n",
    "        # 创建一对 Socket\n",
    "        if os.name == 'posix':\n",
    "            self._putsocket, self._getsocket = socket.socketpair()\n",
    "        else:\n",
    "            server = socket.socket(\n",
    "                socket.AF_INET, socket.SOCK_STREAM)\n",
    "            server.bind(('127.0.0.1', 0))\n",
    "            server.listen(1)\n",
    "            self._putsocket = socket.socket(\n",
    "                socket.AF_INET, socket.SOCK_STREAM)\n",
    "            self._putsocket.connect(server.getsockname())\n",
    "            self._getsocket, _ = server.accept()\n",
    "            server.close()\n",
    "\n",
    "    def fileno(self):\n",
    "        return self._getsocket.fileno()\n",
    "\n",
    "    def put(self, item):\n",
    "        super().put(item)\n",
    "        self._putsocket.send(b'x')\n",
    "\n",
    "    def get(self):\n",
    "        self._getsocket.recv(1)\n",
    "        return super().get()"
   ]
  },
  {
   "cell_type": "code",
   "execution_count": 32,
   "metadata": {},
   "outputs": [
    {
     "name": "stdout",
     "output_type": "stream",
     "text": [
      "Got: 1\n",
      "Got: 10\n",
      "Got: hello\n",
      "Got: 15\n"
     ]
    }
   ],
   "source": [
    "import select\n",
    "import threading\n",
    "\n",
    "def consumer(queues):\n",
    "    while True:\n",
    "        # 使用 select 来轮询队列的 fileno 方法\n",
    "        can_read, _, _ = select.select(queues,[],[])\n",
    "        for r in can_read:\n",
    "            item = r.get()\n",
    "            print('Got:', item)\n",
    "\n",
    "q1 = PollableQueue()\n",
    "q2 = PollableQueue()\n",
    "q3 = PollableQueue()\n",
    "\n",
    "t = threading.Thread(target=consumer, args=([q1,q2,q3],))\n",
    "t.daemon = True\n",
    "t.start()\n",
    "\n",
    "q1.put(1)\n",
    "q2.put(10)\n",
    "q3.put('hello')\n",
    "q2.put(15)"
   ]
  }
 ],
 "metadata": {
  "kernelspec": {
   "display_name": "Python 3",
   "language": "python",
   "name": "python3"
  },
  "language_info": {
   "codemirror_mode": {
    "name": "ipython",
    "version": 3
   },
   "file_extension": ".py",
   "mimetype": "text/x-python",
   "name": "python",
   "nbconvert_exporter": "python",
   "pygments_lexer": "ipython3",
   "version": "3.6.5"
  }
 },
 "nbformat": 4,
 "nbformat_minor": 2
}
